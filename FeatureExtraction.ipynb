{
 "cells": [
  {
   "cell_type": "code",
   "execution_count": 22,
   "metadata": {},
   "outputs": [],
   "source": [
    "import pandas as pd\n",
    "import numpy as np\n",
    "import matplotlib.pyplot as plt\n",
    "import seaborn as sns\n",
    "import xgboost as xgb\n",
    "import warnings\n",
    "warnings.filterwarnings('ignore')\n",
    "\n",
    "from matplotlib import cm\n",
    "\n",
    "from sklearn.model_selection import train_test_split\n",
    "from sklearn.preprocessing import LabelEncoder\n",
    "from sklearn.cluster import MiniBatchKMeans\n",
    "\n",
    "%matplotlib inline\n"
   ]
  },
  {
   "cell_type": "code",
   "execution_count": 2,
   "metadata": {},
   "outputs": [],
   "source": [
    "train_data = pd.read_pickle('train_data.pickle')"
   ]
  },
  {
   "cell_type": "code",
   "execution_count": 4,
   "metadata": {},
   "outputs": [
    {
     "name": "stdout",
     "output_type": "stream",
     "text": [
      "<class 'pandas.core.frame.DataFrame'>\n",
      "Int64Index: 415016 entries, 3 to 487464\n",
      "Data columns (total 16 columns):\n",
      "ID                  415016 non-null object\n",
      "Start_Time          415016 non-null datetime64[ns]\n",
      "End_Time            415016 non-null datetime64[ns]\n",
      "Start_Latitude      415016 non-null float64\n",
      "Start_Longitude     415016 non-null float64\n",
      "End_Latitude        415016 non-null float64\n",
      "End_Longitude       415016 non-null float64\n",
      "Duration            415016 non-null float64\n",
      "pick_month          415016 non-null int64\n",
      "hour                415016 non-null int64\n",
      "week_of_year        415016 non-null int64\n",
      "day_of_year         415016 non-null int64\n",
      "day_of_week         415016 non-null int64\n",
      "hvsine_pick_drop    415016 non-null float64\n",
      "manhtn_pick_drop    415016 non-null float64\n",
      "bearing             415016 non-null float64\n",
      "dtypes: datetime64[ns](2), float64(8), int64(5), object(1)\n",
      "memory usage: 53.8+ MB\n"
     ]
    }
   ],
   "source": [
    "train_data.info()"
   ]
  },
  {
   "cell_type": "code",
   "execution_count": 5,
   "metadata": {},
   "outputs": [
    {
     "data": {
      "text/html": [
       "<div>\n",
       "<style scoped>\n",
       "    .dataframe tbody tr th:only-of-type {\n",
       "        vertical-align: middle;\n",
       "    }\n",
       "\n",
       "    .dataframe tbody tr th {\n",
       "        vertical-align: top;\n",
       "    }\n",
       "\n",
       "    .dataframe thead th {\n",
       "        text-align: right;\n",
       "    }\n",
       "</style>\n",
       "<table border=\"1\" class=\"dataframe\">\n",
       "  <thead>\n",
       "    <tr style=\"text-align: right;\">\n",
       "      <th></th>\n",
       "      <th>ID</th>\n",
       "      <th>Start_Time</th>\n",
       "      <th>End_Time</th>\n",
       "      <th>Start_Latitude</th>\n",
       "      <th>Start_Longitude</th>\n",
       "      <th>End_Latitude</th>\n",
       "      <th>End_Longitude</th>\n",
       "      <th>Duration</th>\n",
       "      <th>pick_month</th>\n",
       "      <th>hour</th>\n",
       "      <th>week_of_year</th>\n",
       "      <th>day_of_year</th>\n",
       "      <th>day_of_week</th>\n",
       "      <th>hvsine_pick_drop</th>\n",
       "      <th>manhtn_pick_drop</th>\n",
       "      <th>bearing</th>\n",
       "    </tr>\n",
       "  </thead>\n",
       "  <tbody>\n",
       "    <tr>\n",
       "      <th>3</th>\n",
       "      <td>150814781</td>\n",
       "      <td>2016-07-01 06:07:01</td>\n",
       "      <td>2016-07-01 06:10:46</td>\n",
       "      <td>12.801986</td>\n",
       "      <td>77.704803</td>\n",
       "      <td>12.794087</td>\n",
       "      <td>77.721321</td>\n",
       "      <td>225.0</td>\n",
       "      <td>7</td>\n",
       "      <td>6</td>\n",
       "      <td>26</td>\n",
       "      <td>183</td>\n",
       "      <td>4</td>\n",
       "      <td>1.994858</td>\n",
       "      <td>2.669389</td>\n",
       "      <td>116.120964</td>\n",
       "    </tr>\n",
       "    <tr>\n",
       "      <th>4</th>\n",
       "      <td>150814781</td>\n",
       "      <td>2016-07-01 06:08:20</td>\n",
       "      <td>2016-07-01 06:11:30</td>\n",
       "      <td>12.801986</td>\n",
       "      <td>77.704803</td>\n",
       "      <td>12.792457</td>\n",
       "      <td>77.727730</td>\n",
       "      <td>190.0</td>\n",
       "      <td>7</td>\n",
       "      <td>6</td>\n",
       "      <td>26</td>\n",
       "      <td>183</td>\n",
       "      <td>4</td>\n",
       "      <td>2.702424</td>\n",
       "      <td>3.545570</td>\n",
       "      <td>113.081674</td>\n",
       "    </tr>\n",
       "    <tr>\n",
       "      <th>5</th>\n",
       "      <td>150814781</td>\n",
       "      <td>2016-07-01 06:10:49</td>\n",
       "      <td>2016-07-01 06:12:29</td>\n",
       "      <td>12.793974</td>\n",
       "      <td>77.721748</td>\n",
       "      <td>12.790604</td>\n",
       "      <td>77.732292</td>\n",
       "      <td>100.0</td>\n",
       "      <td>7</td>\n",
       "      <td>6</td>\n",
       "      <td>26</td>\n",
       "      <td>183</td>\n",
       "      <td>4</td>\n",
       "      <td>1.203180</td>\n",
       "      <td>1.518058</td>\n",
       "      <td>108.145288</td>\n",
       "    </tr>\n",
       "    <tr>\n",
       "      <th>6</th>\n",
       "      <td>150814781</td>\n",
       "      <td>2016-07-01 06:12:59</td>\n",
       "      <td>2016-07-01 06:17:27</td>\n",
       "      <td>12.788506</td>\n",
       "      <td>77.736084</td>\n",
       "      <td>12.781456</td>\n",
       "      <td>77.763435</td>\n",
       "      <td>268.0</td>\n",
       "      <td>7</td>\n",
       "      <td>6</td>\n",
       "      <td>26</td>\n",
       "      <td>183</td>\n",
       "      <td>4</td>\n",
       "      <td>3.067743</td>\n",
       "      <td>3.749774</td>\n",
       "      <td>104.802428</td>\n",
       "    </tr>\n",
       "    <tr>\n",
       "      <th>7</th>\n",
       "      <td>150814781</td>\n",
       "      <td>2016-07-01 06:15:58</td>\n",
       "      <td>2016-07-01 06:18:17</td>\n",
       "      <td>12.785234</td>\n",
       "      <td>77.751587</td>\n",
       "      <td>12.779743</td>\n",
       "      <td>77.767654</td>\n",
       "      <td>139.0</td>\n",
       "      <td>7</td>\n",
       "      <td>6</td>\n",
       "      <td>26</td>\n",
       "      <td>183</td>\n",
       "      <td>4</td>\n",
       "      <td>1.846180</td>\n",
       "      <td>2.352845</td>\n",
       "      <td>109.310795</td>\n",
       "    </tr>\n",
       "  </tbody>\n",
       "</table>\n",
       "</div>"
      ],
      "text/plain": [
       "          ID          Start_Time            End_Time  Start_Latitude  \\\n",
       "3  150814781 2016-07-01 06:07:01 2016-07-01 06:10:46       12.801986   \n",
       "4  150814781 2016-07-01 06:08:20 2016-07-01 06:11:30       12.801986   \n",
       "5  150814781 2016-07-01 06:10:49 2016-07-01 06:12:29       12.793974   \n",
       "6  150814781 2016-07-01 06:12:59 2016-07-01 06:17:27       12.788506   \n",
       "7  150814781 2016-07-01 06:15:58 2016-07-01 06:18:17       12.785234   \n",
       "\n",
       "   Start_Longitude  End_Latitude  End_Longitude  Duration  pick_month  hour  \\\n",
       "3        77.704803     12.794087      77.721321     225.0           7     6   \n",
       "4        77.704803     12.792457      77.727730     190.0           7     6   \n",
       "5        77.721748     12.790604      77.732292     100.0           7     6   \n",
       "6        77.736084     12.781456      77.763435     268.0           7     6   \n",
       "7        77.751587     12.779743      77.767654     139.0           7     6   \n",
       "\n",
       "   week_of_year  day_of_year  day_of_week  hvsine_pick_drop  manhtn_pick_drop  \\\n",
       "3            26          183            4          1.994858          2.669389   \n",
       "4            26          183            4          2.702424          3.545570   \n",
       "5            26          183            4          1.203180          1.518058   \n",
       "6            26          183            4          3.067743          3.749774   \n",
       "7            26          183            4          1.846180          2.352845   \n",
       "\n",
       "      bearing  \n",
       "3  116.120964  \n",
       "4  113.081674  \n",
       "5  108.145288  \n",
       "6  104.802428  \n",
       "7  109.310795  "
      ]
     },
     "execution_count": 5,
     "metadata": {},
     "output_type": "execute_result"
    }
   ],
   "source": [
    "train_data.head()"
   ]
  },
  {
   "cell_type": "code",
   "execution_count": 6,
   "metadata": {},
   "outputs": [],
   "source": [
    "l = ['pick_month','hour','week_of_year','day_of_year','day_of_week','hvsine_pick_drop','manhtn_pick_drop','bearing']"
   ]
  },
  {
   "cell_type": "code",
   "execution_count": 8,
   "metadata": {},
   "outputs": [],
   "source": [
    "df = train_data.drop(l,axis=1)"
   ]
  },
  {
   "cell_type": "code",
   "execution_count": 9,
   "metadata": {},
   "outputs": [
    {
     "data": {
      "text/html": [
       "<div>\n",
       "<style scoped>\n",
       "    .dataframe tbody tr th:only-of-type {\n",
       "        vertical-align: middle;\n",
       "    }\n",
       "\n",
       "    .dataframe tbody tr th {\n",
       "        vertical-align: top;\n",
       "    }\n",
       "\n",
       "    .dataframe thead th {\n",
       "        text-align: right;\n",
       "    }\n",
       "</style>\n",
       "<table border=\"1\" class=\"dataframe\">\n",
       "  <thead>\n",
       "    <tr style=\"text-align: right;\">\n",
       "      <th></th>\n",
       "      <th>ID</th>\n",
       "      <th>Start_Time</th>\n",
       "      <th>End_Time</th>\n",
       "      <th>Start_Latitude</th>\n",
       "      <th>Start_Longitude</th>\n",
       "      <th>End_Latitude</th>\n",
       "      <th>End_Longitude</th>\n",
       "      <th>Duration</th>\n",
       "    </tr>\n",
       "  </thead>\n",
       "  <tbody>\n",
       "    <tr>\n",
       "      <th>3</th>\n",
       "      <td>150814781</td>\n",
       "      <td>2016-07-01 06:07:01</td>\n",
       "      <td>2016-07-01 06:10:46</td>\n",
       "      <td>12.801986</td>\n",
       "      <td>77.704803</td>\n",
       "      <td>12.794087</td>\n",
       "      <td>77.721321</td>\n",
       "      <td>225.0</td>\n",
       "    </tr>\n",
       "    <tr>\n",
       "      <th>4</th>\n",
       "      <td>150814781</td>\n",
       "      <td>2016-07-01 06:08:20</td>\n",
       "      <td>2016-07-01 06:11:30</td>\n",
       "      <td>12.801986</td>\n",
       "      <td>77.704803</td>\n",
       "      <td>12.792457</td>\n",
       "      <td>77.727730</td>\n",
       "      <td>190.0</td>\n",
       "    </tr>\n",
       "    <tr>\n",
       "      <th>5</th>\n",
       "      <td>150814781</td>\n",
       "      <td>2016-07-01 06:10:49</td>\n",
       "      <td>2016-07-01 06:12:29</td>\n",
       "      <td>12.793974</td>\n",
       "      <td>77.721748</td>\n",
       "      <td>12.790604</td>\n",
       "      <td>77.732292</td>\n",
       "      <td>100.0</td>\n",
       "    </tr>\n",
       "    <tr>\n",
       "      <th>6</th>\n",
       "      <td>150814781</td>\n",
       "      <td>2016-07-01 06:12:59</td>\n",
       "      <td>2016-07-01 06:17:27</td>\n",
       "      <td>12.788506</td>\n",
       "      <td>77.736084</td>\n",
       "      <td>12.781456</td>\n",
       "      <td>77.763435</td>\n",
       "      <td>268.0</td>\n",
       "    </tr>\n",
       "    <tr>\n",
       "      <th>7</th>\n",
       "      <td>150814781</td>\n",
       "      <td>2016-07-01 06:15:58</td>\n",
       "      <td>2016-07-01 06:18:17</td>\n",
       "      <td>12.785234</td>\n",
       "      <td>77.751587</td>\n",
       "      <td>12.779743</td>\n",
       "      <td>77.767654</td>\n",
       "      <td>139.0</td>\n",
       "    </tr>\n",
       "  </tbody>\n",
       "</table>\n",
       "</div>"
      ],
      "text/plain": [
       "          ID          Start_Time            End_Time  Start_Latitude  \\\n",
       "3  150814781 2016-07-01 06:07:01 2016-07-01 06:10:46       12.801986   \n",
       "4  150814781 2016-07-01 06:08:20 2016-07-01 06:11:30       12.801986   \n",
       "5  150814781 2016-07-01 06:10:49 2016-07-01 06:12:29       12.793974   \n",
       "6  150814781 2016-07-01 06:12:59 2016-07-01 06:17:27       12.788506   \n",
       "7  150814781 2016-07-01 06:15:58 2016-07-01 06:18:17       12.785234   \n",
       "\n",
       "   Start_Longitude  End_Latitude  End_Longitude  Duration  \n",
       "3        77.704803     12.794087      77.721321     225.0  \n",
       "4        77.704803     12.792457      77.727730     190.0  \n",
       "5        77.721748     12.790604      77.732292     100.0  \n",
       "6        77.736084     12.781456      77.763435     268.0  \n",
       "7        77.751587     12.779743      77.767654     139.0  "
      ]
     },
     "execution_count": 9,
     "metadata": {},
     "output_type": "execute_result"
    }
   ],
   "source": [
    "df.head()"
   ]
  },
  {
   "cell_type": "code",
   "execution_count": 24,
   "metadata": {},
   "outputs": [],
   "source": [
    "coords = np.vstack((df[['Start_Latitude',  'Start_Longitude']].values,\n",
    "                    df[['End_Latitude', 'End_Longitude']].values,\n",
    "                    df[['Start_Latitude',  'Start_Longitude']].values,\n",
    "                    df[['End_Latitude', 'End_Longitude']].values))\n",
    "kmeans = MiniBatchKMeans(n_clusters=100, batch_size=10000).fit(coords)"
   ]
  },
  {
   "cell_type": "code",
   "execution_count": 26,
   "metadata": {},
   "outputs": [],
   "source": [
    "from haversine import haversine\n",
    "def derive_features(df):\n",
    "    df = df.copy()\n",
    "    # Pickup-based features\n",
    "    df['pickup_date'] = df['Start_Time'].dt.date\n",
    "    df['pickup_weekday'] = df['Start_Time'].dt.weekday\n",
    "    df['pickup_hour'] = df['Start_Time'].dt.hour\n",
    "    df['pickup_month'] = df['Start_Time'].dt.month\n",
    "    df['pickup_day'] = df['Start_Time'].dt.day\n",
    "    # Brand new features\n",
    "    df['haversine_distance'] = df.apply(lambda x: haversine((x['Start_Latitude'],  x['Start_Longitude']), \n",
    "                                                            (x['End_Latitude'], x['End_Longitude'])), axis=1)\n",
    "    df['pickup_cluster']  = kmeans.predict(df[['Start_Latitude', 'Start_Longitude']])\n",
    "    df['dropoff_cluster'] = kmeans.predict(df[['End_Latitude', 'End_Longitude']])\n",
    "    return df\n",
    "\n"
   ]
  },
  {
   "cell_type": "code",
   "execution_count": 27,
   "metadata": {},
   "outputs": [],
   "source": [
    "df = derive_features(df)"
   ]
  },
  {
   "cell_type": "code",
   "execution_count": 28,
   "metadata": {},
   "outputs": [
    {
     "data": {
      "text/html": [
       "<div>\n",
       "<style scoped>\n",
       "    .dataframe tbody tr th:only-of-type {\n",
       "        vertical-align: middle;\n",
       "    }\n",
       "\n",
       "    .dataframe tbody tr th {\n",
       "        vertical-align: top;\n",
       "    }\n",
       "\n",
       "    .dataframe thead th {\n",
       "        text-align: right;\n",
       "    }\n",
       "</style>\n",
       "<table border=\"1\" class=\"dataframe\">\n",
       "  <thead>\n",
       "    <tr style=\"text-align: right;\">\n",
       "      <th></th>\n",
       "      <th>ID</th>\n",
       "      <th>Start_Time</th>\n",
       "      <th>End_Time</th>\n",
       "      <th>Start_Latitude</th>\n",
       "      <th>Start_Longitude</th>\n",
       "      <th>End_Latitude</th>\n",
       "      <th>End_Longitude</th>\n",
       "      <th>Duration</th>\n",
       "      <th>pickup_date</th>\n",
       "      <th>pickup_weekday</th>\n",
       "      <th>pickup_hour</th>\n",
       "      <th>pickup_month</th>\n",
       "      <th>pickup_day</th>\n",
       "      <th>haversine_distance</th>\n",
       "      <th>pickup_cluster</th>\n",
       "      <th>dropoff_cluster</th>\n",
       "    </tr>\n",
       "  </thead>\n",
       "  <tbody>\n",
       "    <tr>\n",
       "      <th>3</th>\n",
       "      <td>150814781</td>\n",
       "      <td>2016-07-01 06:07:01</td>\n",
       "      <td>2016-07-01 06:10:46</td>\n",
       "      <td>12.801986</td>\n",
       "      <td>77.704803</td>\n",
       "      <td>12.794087</td>\n",
       "      <td>77.721321</td>\n",
       "      <td>225.0</td>\n",
       "      <td>2016-07-01</td>\n",
       "      <td>4</td>\n",
       "      <td>6</td>\n",
       "      <td>7</td>\n",
       "      <td>1</td>\n",
       "      <td>1.994861</td>\n",
       "      <td>21</td>\n",
       "      <td>21</td>\n",
       "    </tr>\n",
       "    <tr>\n",
       "      <th>4</th>\n",
       "      <td>150814781</td>\n",
       "      <td>2016-07-01 06:08:20</td>\n",
       "      <td>2016-07-01 06:11:30</td>\n",
       "      <td>12.801986</td>\n",
       "      <td>77.704803</td>\n",
       "      <td>12.792457</td>\n",
       "      <td>77.727730</td>\n",
       "      <td>190.0</td>\n",
       "      <td>2016-07-01</td>\n",
       "      <td>4</td>\n",
       "      <td>6</td>\n",
       "      <td>7</td>\n",
       "      <td>1</td>\n",
       "      <td>2.702428</td>\n",
       "      <td>21</td>\n",
       "      <td>21</td>\n",
       "    </tr>\n",
       "    <tr>\n",
       "      <th>5</th>\n",
       "      <td>150814781</td>\n",
       "      <td>2016-07-01 06:10:49</td>\n",
       "      <td>2016-07-01 06:12:29</td>\n",
       "      <td>12.793974</td>\n",
       "      <td>77.721748</td>\n",
       "      <td>12.790604</td>\n",
       "      <td>77.732292</td>\n",
       "      <td>100.0</td>\n",
       "      <td>2016-07-01</td>\n",
       "      <td>4</td>\n",
       "      <td>6</td>\n",
       "      <td>7</td>\n",
       "      <td>1</td>\n",
       "      <td>1.203182</td>\n",
       "      <td>21</td>\n",
       "      <td>21</td>\n",
       "    </tr>\n",
       "    <tr>\n",
       "      <th>6</th>\n",
       "      <td>150814781</td>\n",
       "      <td>2016-07-01 06:12:59</td>\n",
       "      <td>2016-07-01 06:17:27</td>\n",
       "      <td>12.788506</td>\n",
       "      <td>77.736084</td>\n",
       "      <td>12.781456</td>\n",
       "      <td>77.763435</td>\n",
       "      <td>268.0</td>\n",
       "      <td>2016-07-01</td>\n",
       "      <td>4</td>\n",
       "      <td>6</td>\n",
       "      <td>7</td>\n",
       "      <td>1</td>\n",
       "      <td>3.067747</td>\n",
       "      <td>21</td>\n",
       "      <td>12</td>\n",
       "    </tr>\n",
       "    <tr>\n",
       "      <th>7</th>\n",
       "      <td>150814781</td>\n",
       "      <td>2016-07-01 06:15:58</td>\n",
       "      <td>2016-07-01 06:18:17</td>\n",
       "      <td>12.785234</td>\n",
       "      <td>77.751587</td>\n",
       "      <td>12.779743</td>\n",
       "      <td>77.767654</td>\n",
       "      <td>139.0</td>\n",
       "      <td>2016-07-01</td>\n",
       "      <td>4</td>\n",
       "      <td>6</td>\n",
       "      <td>7</td>\n",
       "      <td>1</td>\n",
       "      <td>1.846182</td>\n",
       "      <td>12</td>\n",
       "      <td>12</td>\n",
       "    </tr>\n",
       "  </tbody>\n",
       "</table>\n",
       "</div>"
      ],
      "text/plain": [
       "          ID          Start_Time            End_Time  Start_Latitude  \\\n",
       "3  150814781 2016-07-01 06:07:01 2016-07-01 06:10:46       12.801986   \n",
       "4  150814781 2016-07-01 06:08:20 2016-07-01 06:11:30       12.801986   \n",
       "5  150814781 2016-07-01 06:10:49 2016-07-01 06:12:29       12.793974   \n",
       "6  150814781 2016-07-01 06:12:59 2016-07-01 06:17:27       12.788506   \n",
       "7  150814781 2016-07-01 06:15:58 2016-07-01 06:18:17       12.785234   \n",
       "\n",
       "   Start_Longitude  End_Latitude  End_Longitude  Duration pickup_date  \\\n",
       "3        77.704803     12.794087      77.721321     225.0  2016-07-01   \n",
       "4        77.704803     12.792457      77.727730     190.0  2016-07-01   \n",
       "5        77.721748     12.790604      77.732292     100.0  2016-07-01   \n",
       "6        77.736084     12.781456      77.763435     268.0  2016-07-01   \n",
       "7        77.751587     12.779743      77.767654     139.0  2016-07-01   \n",
       "\n",
       "   pickup_weekday  pickup_hour  pickup_month  pickup_day  haversine_distance  \\\n",
       "3               4            6             7           1            1.994861   \n",
       "4               4            6             7           1            2.702428   \n",
       "5               4            6             7           1            1.203182   \n",
       "6               4            6             7           1            3.067747   \n",
       "7               4            6             7           1            1.846182   \n",
       "\n",
       "   pickup_cluster  dropoff_cluster  \n",
       "3              21               21  \n",
       "4              21               21  \n",
       "5              21               21  \n",
       "6              21               12  \n",
       "7              12               12  "
      ]
     },
     "execution_count": 28,
     "metadata": {},
     "output_type": "execute_result"
    }
   ],
   "source": [
    "df.head()"
   ]
  },
  {
   "cell_type": "code",
   "execution_count": 29,
   "metadata": {},
   "outputs": [
    {
     "name": "stdout",
     "output_type": "stream",
     "text": [
      "Mean trip duration (min): 26.51\n",
      "Max trip duration (min): 495.72\n",
      "Median trip duration (min): 20.58\n"
     ]
    }
   ],
   "source": [
    "print('Mean trip duration (min): {0:.2f}'.format(df['Duration'].mean()/60))\n",
    "print('Max trip duration (min): {0:.2f}'.format(df['Duration'].max()/60))\n",
    "print('Median trip duration (min): {0:.2f}'.format(df['Duration'].median()/60))"
   ]
  },
  {
   "cell_type": "code",
   "execution_count": 30,
   "metadata": {},
   "outputs": [
    {
     "data": {
      "text/plain": [
       "<matplotlib.axes._subplots.AxesSubplot at 0x7f44a3fb03c8>"
      ]
     },
     "execution_count": 30,
     "metadata": {},
     "output_type": "execute_result"
    },
    {
     "data": {
      "image/png": "[encoded data removed]",
      "text/plain": [
       "<Figure size 1008x360 with 1 Axes>"
      ]
     },
     "metadata": {},
     "output_type": "display_data"
    }
   ],
   "source": [
    "plt.figure(figsize=(14, 5))\n",
    "plt.title('Distance Traveled in km')\n",
    "sns.distplot(df['haversine_distance'], hist=False)"
   ]
  },
  {
   "cell_type": "code",
   "execution_count": 31,
   "metadata": {},
   "outputs": [
    {
     "name": "stdout",
     "output_type": "stream",
     "text": [
      "Mean trip distance (km): 3.57\n",
      "Max trip distance (km) 33.91\n",
      "Median trip distance (km): 2.50\n"
     ]
    }
   ],
   "source": [
    "print('Mean trip distance (km): {0:.2f}'.format(df['haversine_distance'].mean()))\n",
    "print('Max trip distance (km) {0:.2f}'.format(df['haversine_distance'].max()))\n",
    "print('Median trip distance (km): {0:.2f}'.format(df['haversine_distance'].median()))"
   ]
  },
  {
   "cell_type": "code",
   "execution_count": 32,
   "metadata": {},
   "outputs": [
    {
     "data": {
      "text/plain": [
       "<matplotlib.axes._subplots.AxesSubplot at 0x7f44a4a02ba8>"
      ]
     },
     "execution_count": 32,
     "metadata": {},
     "output_type": "execute_result"
    },
    {
     "data": {
      "image/png": "[encoded data removed]",
      "text/plain": [
       "<Figure size 1008x360 with 1 Axes>"
      ]
     },
     "metadata": {},
     "output_type": "display_data"
    }
   ],
   "source": [
    "plt.figure(figsize=(14, 5))\n",
    "plt.title('Pickup per Weekday')\n",
    "sns.countplot(x='pickup_weekday', data=df)\n"
   ]
  },
  {
   "cell_type": "code",
   "execution_count": 33,
   "metadata": {},
   "outputs": [
    {
     "data": {
      "text/plain": [
       "<matplotlib.axes._subplots.AxesSubplot at 0x7f44997688d0>"
      ]
     },
     "execution_count": 33,
     "metadata": {},
     "output_type": "execute_result"
    },
    {
     "data": {
      "image/png": "[encoded data removed]",
      "text/plain": [
       "<Figure size 1008x360 with 1 Axes>"
      ]
     },
     "metadata": {},
     "output_type": "display_data"
    }
   ],
   "source": [
    "plt.figure(figsize=(14, 5))\n",
    "plt.title('Pickup per Hour')\n",
    "sns.countplot(x='pickup_hour', data=df)"
   ]
  },
  {
   "cell_type": "code",
   "execution_count": 35,
   "metadata": {},
   "outputs": [
    {
     "data": {
      "text/plain": [
       "<matplotlib.axes._subplots.AxesSubplot at 0x7f449963ecf8>"
      ]
     },
     "execution_count": 35,
     "metadata": {},
     "output_type": "execute_result"
    },
    {
     "data": {
      "image/png": "[encoded data removed]",
      "text/plain": [
       "<Figure size 1008x360 with 1 Axes>"
      ]
     },
     "metadata": {},
     "output_type": "display_data"
    }
   ],
   "source": [
    "plt.figure(figsize=(14, 5))\n",
    "plt.title('Duration per Weekday')\n",
    "sns.pointplot(x='pickup_weekday', y='Duration', data=df)"
   ]
  },
  {
   "cell_type": "code",
   "execution_count": 36,
   "metadata": {},
   "outputs": [
    {
     "data": {
      "text/plain": [
       "<matplotlib.axes._subplots.AxesSubplot at 0x7f4499624c50>"
      ]
     },
     "execution_count": 36,
     "metadata": {},
     "output_type": "execute_result"
    },
    {
     "data": {
      "image/png": "[encoded data removed]",
      "text/plain": [
       "<Figure size 1008x360 with 1 Axes>"
      ]
     },
     "metadata": {},
     "output_type": "display_data"
    }
   ],
   "source": [
    "plt.figure(figsize=(14, 5))\n",
    "plt.title('Duration per Hour')\n",
    "sns.pointplot(x='pickup_hour', y='Duration', data=df)"
   ]
  },
  {
   "cell_type": "code",
   "execution_count": 37,
   "metadata": {},
   "outputs": [
    {
     "data": {
      "text/plain": [
       "<matplotlib.axes._subplots.AxesSubplot at 0x7f449959f668>"
      ]
     },
     "execution_count": 37,
     "metadata": {},
     "output_type": "execute_result"
    },
    {
     "data": {
      "image/png": "[encoded data removed]",
      "text/plain": [
       "<Figure size 1008x360 with 1 Axes>"
      ]
     },
     "metadata": {},
     "output_type": "display_data"
    }
   ],
   "source": [
    "plt.figure(figsize=(14, 5))\n",
    "plt.title('Trip Duration in Seconds')\n",
    "sns.distplot(df['Duration'], hist=False)"
   ]
  },
  {
   "cell_type": "code",
   "execution_count": 38,
   "metadata": {},
   "outputs": [
    {
     "name": "stdout",
     "output_type": "stream",
     "text": [
      "Min trip distance (km): 0.00\n",
      "Min trip duration (s): 55.00\n"
     ]
    }
   ],
   "source": [
    "print('Min trip distance (km): {0:.2f}'.format(df['haversine_distance'].min()))\n",
    "print('Min trip duration (s): {0:.2f}'.format(df['Duration'].min()))"
   ]
  },
  {
   "cell_type": "code",
   "execution_count": 40,
   "metadata": {},
   "outputs": [
    {
     "data": {
      "text/plain": [
       "Text(0.5,1,'Correlation between features')"
      ]
     },
     "execution_count": 40,
     "metadata": {},
     "output_type": "execute_result"
    },
    {
     "data": {
      "image/png": "[encoded data removed]",
      "text/plain": [
       "<Figure size 720x720 with 2 Axes>"
      ]
     },
     "metadata": {},
     "output_type": "display_data"
    }
   ],
   "source": [
    "corr = df.select_dtypes(include=[np.number]).corr()\n",
    "mask = np.zeros_like(corr)\n",
    "mask[np.triu_indices_from(mask)] = True\n",
    "\n",
    "plt.figure(figsize=(10, 10))\n",
    "with sns.axes_style('white'):\n",
    "    sns.heatmap(corr, mask=mask, linewidths=0.01, square=True, linecolor='white')\n",
    "plt.xticks(rotation=90)\n",
    "plt.title('Correlation between features')"
   ]
  },
  {
   "cell_type": "code",
   "execution_count": 41,
   "metadata": {},
   "outputs": [],
   "source": [
    "X = df.select_dtypes(include=[np.number])\n",
    "X = X.drop(['Duration'], axis=1)\n",
    "y = np.log1p(df['Duration'])"
   ]
  },
  {
   "cell_type": "code",
   "execution_count": 42,
   "metadata": {},
   "outputs": [],
   "source": [
    "def rmsle_eval(y, y0):\n",
    "    y0 = y0.get_label()    \n",
    "    assert len(y) == len(y0)\n",
    "    return 'error', np.sqrt(np.mean(np.power(np.log1p(y)-np.log1p(y0), 2)))"
   ]
  },
  {
   "cell_type": "code",
   "execution_count": 44,
   "metadata": {},
   "outputs": [
    {
     "name": "stdout",
     "output_type": "stream",
     "text": [
      "[0]\ttrain-rmse:5.9095\tvalid-rmse:5.90584\ttrain-error:1.31011\tvalid-error:1.30977\n",
      "Multiple eval metrics have been passed: 'valid-error' will be used for early stopping.\n",
      "\n",
      "Will train until valid-error hasn't improved in 50 rounds.\n",
      "[20]\ttrain-rmse:1.05208\tvalid-rmse:1.05224\ttrain-error:0.133855\tvalid-error:0.133955\n",
      "[40]\ttrain-rmse:0.724938\tvalid-rmse:0.732154\ttrain-error:0.096496\tvalid-error:0.097424\n",
      "[60]\ttrain-rmse:0.682669\tvalid-rmse:0.696343\ttrain-error:0.091528\tvalid-error:0.093302\n",
      "[80]\ttrain-rmse:0.659484\tvalid-rmse:0.679707\ttrain-error:0.088197\tvalid-error:0.090882\n",
      "[100]\ttrain-rmse:0.646777\tvalid-rmse:0.67133\ttrain-error:0.086482\tvalid-error:0.089764\n",
      "[120]\ttrain-rmse:0.637216\tvalid-rmse:0.666067\ttrain-error:0.085147\tvalid-error:0.089031\n",
      "[140]\ttrain-rmse:0.630766\tvalid-rmse:0.663035\ttrain-error:0.084234\tvalid-error:0.088606\n",
      "[160]\ttrain-rmse:0.624363\tvalid-rmse:0.659139\ttrain-error:0.083391\tvalid-error:0.088106\n",
      "[180]\ttrain-rmse:0.619212\tvalid-rmse:0.655842\ttrain-error:0.082722\tvalid-error:0.087691\n",
      "[200]\ttrain-rmse:0.61422\tvalid-rmse:0.653155\ttrain-error:0.082043\tvalid-error:0.087329\n",
      "[220]\ttrain-rmse:0.608536\tvalid-rmse:0.650154\ttrain-error:0.081292\tvalid-error:0.086946\n",
      "[240]\ttrain-rmse:0.604786\tvalid-rmse:0.648019\ttrain-error:0.08081\tvalid-error:0.086681\n",
      "[260]\ttrain-rmse:0.600955\tvalid-rmse:0.646206\ttrain-error:0.080279\tvalid-error:0.086436\n",
      "[280]\ttrain-rmse:0.596844\tvalid-rmse:0.644148\ttrain-error:0.079732\tvalid-error:0.086171\n",
      "[300]\ttrain-rmse:0.593622\tvalid-rmse:0.642565\ttrain-error:0.079299\tvalid-error:0.085966\n",
      "[320]\ttrain-rmse:0.590644\tvalid-rmse:0.641065\ttrain-error:0.078904\tvalid-error:0.085772\n",
      "[340]\ttrain-rmse:0.58708\tvalid-rmse:0.639291\ttrain-error:0.078428\tvalid-error:0.08554\n",
      "[360]\ttrain-rmse:0.58462\tvalid-rmse:0.638059\ttrain-error:0.078101\tvalid-error:0.085381\n",
      "[380]\ttrain-rmse:0.581106\tvalid-rmse:0.63651\ttrain-error:0.077627\tvalid-error:0.085181\n",
      "[400]\ttrain-rmse:0.578128\tvalid-rmse:0.635249\ttrain-error:0.077229\tvalid-error:0.085017\n",
      "[420]\ttrain-rmse:0.574433\tvalid-rmse:0.633205\ttrain-error:0.076739\tvalid-error:0.084752\n",
      "[440]\ttrain-rmse:0.571915\tvalid-rmse:0.632246\ttrain-error:0.076391\tvalid-error:0.084624\n",
      "[460]\ttrain-rmse:0.568886\tvalid-rmse:0.631035\ttrain-error:0.075988\tvalid-error:0.084473\n",
      "[480]\ttrain-rmse:0.566901\tvalid-rmse:0.630219\ttrain-error:0.07573\tvalid-error:0.084375\n",
      "[500]\ttrain-rmse:0.56502\tvalid-rmse:0.62949\ttrain-error:0.075483\tvalid-error:0.084284\n",
      "[520]\ttrain-rmse:0.563381\tvalid-rmse:0.628954\ttrain-error:0.075262\tvalid-error:0.084216\n",
      "[540]\ttrain-rmse:0.561636\tvalid-rmse:0.628196\ttrain-error:0.075027\tvalid-error:0.084115\n",
      "[560]\ttrain-rmse:0.559975\tvalid-rmse:0.627603\ttrain-error:0.074804\tvalid-error:0.084039\n",
      "[580]\ttrain-rmse:0.557754\tvalid-rmse:0.626686\ttrain-error:0.074511\tvalid-error:0.083926\n",
      "[600]\ttrain-rmse:0.556009\tvalid-rmse:0.62623\ttrain-error:0.074265\tvalid-error:0.083864\n",
      "[620]\ttrain-rmse:0.554283\tvalid-rmse:0.625702\ttrain-error:0.074033\tvalid-error:0.083796\n",
      "[640]\ttrain-rmse:0.552444\tvalid-rmse:0.625177\ttrain-error:0.073782\tvalid-error:0.083726\n",
      "[660]\ttrain-rmse:0.550193\tvalid-rmse:0.623992\ttrain-error:0.07349\tvalid-error:0.083579\n",
      "[680]\ttrain-rmse:0.548244\tvalid-rmse:0.623521\ttrain-error:0.073218\tvalid-error:0.083517\n",
      "[700]\ttrain-rmse:0.545982\tvalid-rmse:0.622636\ttrain-error:0.072915\tvalid-error:0.083402\n",
      "[720]\ttrain-rmse:0.544517\tvalid-rmse:0.622055\ttrain-error:0.072729\tvalid-error:0.083335\n",
      "[740]\ttrain-rmse:0.5425\tvalid-rmse:0.621412\ttrain-error:0.072455\tvalid-error:0.083254\n",
      "[760]\ttrain-rmse:0.540208\tvalid-rmse:0.620317\ttrain-error:0.072159\tvalid-error:0.083114\n",
      "[780]\ttrain-rmse:0.538644\tvalid-rmse:0.619751\ttrain-error:0.071942\tvalid-error:0.083036\n",
      "[800]\ttrain-rmse:0.536718\tvalid-rmse:0.618902\ttrain-error:0.071689\tvalid-error:0.082929\n",
      "[820]\ttrain-rmse:0.53523\tvalid-rmse:0.618407\ttrain-error:0.071486\tvalid-error:0.082865\n",
      "[840]\ttrain-rmse:0.533637\tvalid-rmse:0.617871\ttrain-error:0.071271\tvalid-error:0.082793\n",
      "[860]\ttrain-rmse:0.531762\tvalid-rmse:0.617099\ttrain-error:0.071026\tvalid-error:0.082696\n",
      "[880]\ttrain-rmse:0.530558\tvalid-rmse:0.616749\ttrain-error:0.070861\tvalid-error:0.08265\n",
      "[900]\ttrain-rmse:0.528992\tvalid-rmse:0.616247\ttrain-error:0.070646\tvalid-error:0.082584\n",
      "[920]\ttrain-rmse:0.527693\tvalid-rmse:0.615817\ttrain-error:0.07047\tvalid-error:0.082528\n",
      "[940]\ttrain-rmse:0.52645\tvalid-rmse:0.615476\ttrain-error:0.070309\tvalid-error:0.082489\n",
      "[960]\ttrain-rmse:0.5251\tvalid-rmse:0.615087\ttrain-error:0.070126\tvalid-error:0.082441\n",
      "[980]\ttrain-rmse:0.523689\tvalid-rmse:0.614556\ttrain-error:0.069931\tvalid-error:0.082368\n",
      "[999]\ttrain-rmse:0.522001\tvalid-rmse:0.613888\ttrain-error:0.06971\tvalid-error:0.082284\n"
     ]
    }
   ],
   "source": [
    "X_train, X_valid, y_train, y_valid = train_test_split(X, y, test_size=0.2, random_state=0)\n",
    "dtrain = xgb.DMatrix(X_train, label=y_train)\n",
    "dvalid = xgb.DMatrix(X_valid, label=y_valid)\n",
    "watchlist = [(dtrain, 'train'), (dvalid, 'valid')]\n",
    "\n",
    "params = {}\n",
    "params[\"objective\"] = \"reg:linear\"\n",
    "params[\"eta\"] = 0.1\n",
    "params[\"min_child_weight\"] = 30\n",
    "params[\"subsample\"] = 0.8\n",
    "params[\"colsample_bytree\"] = 0.3\n",
    "params[\"scale_pos_weight\"] = 1.0\n",
    "params[\"silent\"] = 1\n",
    "params[\"max_depth\"] = 10\n",
    "params[\"nthread\"] = -1\n",
    "\n",
    "plst = list(params.items())\n",
    "\n",
    "model = xgb.train(plst, dtrain, 1000, watchlist, early_stopping_rounds=50, maximize=False, \n",
    "                  verbose_eval=20, feval=rmsle_eval)"
   ]
  },
  {
   "cell_type": "code",
   "execution_count": 46,
   "metadata": {},
   "outputs": [],
   "source": [
    "test = pd.read_csv('test.csv')"
   ]
  },
  {
   "cell_type": "code",
   "execution_count": 47,
   "metadata": {},
   "outputs": [
    {
     "data": {
      "text/html": [
       "<div>\n",
       "<style scoped>\n",
       "    .dataframe tbody tr th:only-of-type {\n",
       "        vertical-align: middle;\n",
       "    }\n",
       "\n",
       "    .dataframe tbody tr th {\n",
       "        vertical-align: top;\n",
       "    }\n",
       "\n",
       "    .dataframe thead th {\n",
       "        text-align: right;\n",
       "    }\n",
       "</style>\n",
       "<table border=\"1\" class=\"dataframe\">\n",
       "  <thead>\n",
       "    <tr style=\"text-align: right;\">\n",
       "      <th></th>\n",
       "      <th>Id</th>\n",
       "      <th>TimeStamp</th>\n",
       "      <th>LATLONG1</th>\n",
       "      <th>LATLONG2</th>\n",
       "      <th>LATLONG3</th>\n",
       "      <th>LATLONG4</th>\n",
       "      <th>LATLONG5</th>\n",
       "      <th>LATLONG6</th>\n",
       "      <th>LATLONG7</th>\n",
       "      <th>LATLONG8</th>\n",
       "      <th>...</th>\n",
       "      <th>LATLONG91</th>\n",
       "      <th>LATLONG92</th>\n",
       "      <th>LATLONG93</th>\n",
       "      <th>LATLONG94</th>\n",
       "      <th>LATLONG95</th>\n",
       "      <th>LATLONG96</th>\n",
       "      <th>LATLONG97</th>\n",
       "      <th>LATLONG98</th>\n",
       "      <th>LATLONG99</th>\n",
       "      <th>LATLONG100</th>\n",
       "    </tr>\n",
       "  </thead>\n",
       "  <tbody>\n",
       "    <tr>\n",
       "      <th>0</th>\n",
       "      <td>150220445</td>\n",
       "      <td>2016-07-22 06:32:30</td>\n",
       "      <td>12.845321:77.66703000000003</td>\n",
       "      <td>12.845289999999999:77.666107</td>\n",
       "      <td>12.845347:77.665565</td>\n",
       "      <td>12.845364:77.66487099999998</td>\n",
       "      <td>12.845376:77.664261</td>\n",
       "      <td>12.84543:77.663361</td>\n",
       "      <td>12.845457000000001:77.662323</td>\n",
       "      <td>12.845512:77.661636</td>\n",
       "      <td>...</td>\n",
       "      <td>12.907288000000001:77.628647</td>\n",
       "      <td>12.908197:77.628113</td>\n",
       "      <td>12.909328:77.627449</td>\n",
       "      <td>12.910283999999999:77.6269</td>\n",
       "      <td>12.911159:77.626396</td>\n",
       "      <td>12.911705:77.625946</td>\n",
       "      <td>12.91203:77.625778</td>\n",
       "      <td>12.912778999999999:77.625366</td>\n",
       "      <td>12.913666000000001:77.624832</td>\n",
       "      <td>12.914212:77.624512</td>\n",
       "    </tr>\n",
       "    <tr>\n",
       "      <th>1</th>\n",
       "      <td>150811705</td>\n",
       "      <td>2016-07-31 05:22:33</td>\n",
       "      <td>12.965988000000001:77.535179</td>\n",
       "      <td>12.965983999999999:77.535217</td>\n",
       "      <td>12.965983999999999:77.535217</td>\n",
       "      <td>12.965983999999999:77.535217</td>\n",
       "      <td>12.965983999999999:77.535217</td>\n",
       "      <td>12.965983999999999:77.535217</td>\n",
       "      <td>12.965983999999999:77.535217</td>\n",
       "      <td>12.965983999999999:77.535217</td>\n",
       "      <td>...</td>\n",
       "      <td>12.965983999999999:77.535217</td>\n",
       "      <td>12.965983999999999:77.535217</td>\n",
       "      <td>12.965983999999999:77.535217</td>\n",
       "      <td>12.965983999999999:77.535217</td>\n",
       "      <td>12.965983999999999:77.535217</td>\n",
       "      <td>12.965983999999999:77.535217</td>\n",
       "      <td>12.965983999999999:77.535217</td>\n",
       "      <td>12.965983999999999:77.535217</td>\n",
       "      <td>12.965983999999999:77.535217</td>\n",
       "      <td>12.965983999999999:77.535217</td>\n",
       "    </tr>\n",
       "    <tr>\n",
       "      <th>2</th>\n",
       "      <td>150218073</td>\n",
       "      <td>2016-07-22 05:26:14</td>\n",
       "      <td>12.957028:77.559196</td>\n",
       "      <td>12.956954:77.559349</td>\n",
       "      <td>12.956980999999999:77.559494</td>\n",
       "      <td>12.957011999999999:77.559494</td>\n",
       "      <td>12.957021000000001:77.55947900000002</td>\n",
       "      <td>12.957024:77.55947900000002</td>\n",
       "      <td>12.957024:77.55947900000002</td>\n",
       "      <td>12.95702:77.55947900000002</td>\n",
       "      <td>...</td>\n",
       "      <td>12.927736999999999:77.551399</td>\n",
       "      <td>12.927241:77.551102</td>\n",
       "      <td>12.926368:77.550606</td>\n",
       "      <td>12.925618:77.550125</td>\n",
       "      <td>12.925413:77.55001800000002</td>\n",
       "      <td>12.925419:77.549812</td>\n",
       "      <td>12.925502:77.54960600000003</td>\n",
       "      <td>12.925761999999999:77.54908</td>\n",
       "      <td>12.926178:77.548477</td>\n",
       "      <td>12.926508:77.548103</td>\n",
       "    </tr>\n",
       "    <tr>\n",
       "      <th>3</th>\n",
       "      <td>150218420</td>\n",
       "      <td>2016-07-23 02:41:32</td>\n",
       "      <td>13.020817999999998:77.502739</td>\n",
       "      <td>13.020817999999998:77.502739</td>\n",
       "      <td>13.020817999999998:77.502739</td>\n",
       "      <td>13.020817999999998:77.502739</td>\n",
       "      <td>13.020817999999998:77.502739</td>\n",
       "      <td>13.020817999999998:77.502739</td>\n",
       "      <td>13.020817999999998:77.502739</td>\n",
       "      <td>13.020817999999998:77.502739</td>\n",
       "      <td>...</td>\n",
       "      <td>13.020817999999998:77.502739</td>\n",
       "      <td>13.020817999999998:77.502739</td>\n",
       "      <td>13.020817999999998:77.502739</td>\n",
       "      <td>13.020817999999998:77.502739</td>\n",
       "      <td>13.020817999999998:77.502739</td>\n",
       "      <td>13.020817999999998:77.502739</td>\n",
       "      <td>13.020817999999998:77.502739</td>\n",
       "      <td>13.020817999999998:77.502739</td>\n",
       "      <td>13.020817999999998:77.502739</td>\n",
       "      <td>13.020817999999998:77.502739</td>\n",
       "    </tr>\n",
       "    <tr>\n",
       "      <th>4</th>\n",
       "      <td>150219092</td>\n",
       "      <td>2016-07-22 18:58:04</td>\n",
       "      <td>12.982555:77.603226</td>\n",
       "      <td>12.982555:77.603226</td>\n",
       "      <td>12.982555:77.603226</td>\n",
       "      <td>12.982556:77.603226</td>\n",
       "      <td>12.982556:77.603226</td>\n",
       "      <td>12.982556:77.603226</td>\n",
       "      <td>12.982556:77.603226</td>\n",
       "      <td>12.982556:77.603226</td>\n",
       "      <td>...</td>\n",
       "      <td>12.98435:77.600571</td>\n",
       "      <td>12.984285:77.600075</td>\n",
       "      <td>12.984244:77.599525</td>\n",
       "      <td>12.984176:77.59906</td>\n",
       "      <td>12.984106:77.598648</td>\n",
       "      <td>12.98403:77.59819</td>\n",
       "      <td>12.983925:77.597755</td>\n",
       "      <td>12.983922999999999:77.597389</td>\n",
       "      <td>12.983922:77.597397</td>\n",
       "      <td>12.983919:77.597389</td>\n",
       "    </tr>\n",
       "  </tbody>\n",
       "</table>\n",
       "<p>5 rows × 102 columns</p>\n",
       "</div>"
      ],
      "text/plain": [
       "          Id            TimeStamp                      LATLONG1  \\\n",
       "0  150220445  2016-07-22 06:32:30   12.845321:77.66703000000003   \n",
       "1  150811705  2016-07-31 05:22:33  12.965988000000001:77.535179   \n",
       "2  150218073  2016-07-22 05:26:14           12.957028:77.559196   \n",
       "3  150218420  2016-07-23 02:41:32  13.020817999999998:77.502739   \n",
       "4  150219092  2016-07-22 18:58:04           12.982555:77.603226   \n",
       "\n",
       "                       LATLONG2                      LATLONG3  \\\n",
       "0  12.845289999999999:77.666107           12.845347:77.665565   \n",
       "1  12.965983999999999:77.535217  12.965983999999999:77.535217   \n",
       "2           12.956954:77.559349  12.956980999999999:77.559494   \n",
       "3  13.020817999999998:77.502739  13.020817999999998:77.502739   \n",
       "4           12.982555:77.603226           12.982555:77.603226   \n",
       "\n",
       "                       LATLONG4                              LATLONG5  \\\n",
       "0   12.845364:77.66487099999998                   12.845376:77.664261   \n",
       "1  12.965983999999999:77.535217          12.965983999999999:77.535217   \n",
       "2  12.957011999999999:77.559494  12.957021000000001:77.55947900000002   \n",
       "3  13.020817999999998:77.502739          13.020817999999998:77.502739   \n",
       "4           12.982556:77.603226                   12.982556:77.603226   \n",
       "\n",
       "                       LATLONG6                      LATLONG7  \\\n",
       "0            12.84543:77.663361  12.845457000000001:77.662323   \n",
       "1  12.965983999999999:77.535217  12.965983999999999:77.535217   \n",
       "2   12.957024:77.55947900000002   12.957024:77.55947900000002   \n",
       "3  13.020817999999998:77.502739  13.020817999999998:77.502739   \n",
       "4           12.982556:77.603226           12.982556:77.603226   \n",
       "\n",
       "                       LATLONG8              ...               \\\n",
       "0           12.845512:77.661636              ...                \n",
       "1  12.965983999999999:77.535217              ...                \n",
       "2    12.95702:77.55947900000002              ...                \n",
       "3  13.020817999999998:77.502739              ...                \n",
       "4           12.982556:77.603226              ...                \n",
       "\n",
       "                      LATLONG91                     LATLONG92  \\\n",
       "0  12.907288000000001:77.628647           12.908197:77.628113   \n",
       "1  12.965983999999999:77.535217  12.965983999999999:77.535217   \n",
       "2  12.927736999999999:77.551399           12.927241:77.551102   \n",
       "3  13.020817999999998:77.502739  13.020817999999998:77.502739   \n",
       "4            12.98435:77.600571           12.984285:77.600075   \n",
       "\n",
       "                      LATLONG93                     LATLONG94  \\\n",
       "0           12.909328:77.627449    12.910283999999999:77.6269   \n",
       "1  12.965983999999999:77.535217  12.965983999999999:77.535217   \n",
       "2           12.926368:77.550606           12.925618:77.550125   \n",
       "3  13.020817999999998:77.502739  13.020817999999998:77.502739   \n",
       "4           12.984244:77.599525            12.984176:77.59906   \n",
       "\n",
       "                      LATLONG95                     LATLONG96  \\\n",
       "0           12.911159:77.626396           12.911705:77.625946   \n",
       "1  12.965983999999999:77.535217  12.965983999999999:77.535217   \n",
       "2   12.925413:77.55001800000002           12.925419:77.549812   \n",
       "3  13.020817999999998:77.502739  13.020817999999998:77.502739   \n",
       "4           12.984106:77.598648             12.98403:77.59819   \n",
       "\n",
       "                      LATLONG97                     LATLONG98  \\\n",
       "0            12.91203:77.625778  12.912778999999999:77.625366   \n",
       "1  12.965983999999999:77.535217  12.965983999999999:77.535217   \n",
       "2   12.925502:77.54960600000003   12.925761999999999:77.54908   \n",
       "3  13.020817999999998:77.502739  13.020817999999998:77.502739   \n",
       "4           12.983925:77.597755  12.983922999999999:77.597389   \n",
       "\n",
       "                      LATLONG99                    LATLONG100  \n",
       "0  12.913666000000001:77.624832           12.914212:77.624512  \n",
       "1  12.965983999999999:77.535217  12.965983999999999:77.535217  \n",
       "2           12.926178:77.548477           12.926508:77.548103  \n",
       "3  13.020817999999998:77.502739  13.020817999999998:77.502739  \n",
       "4           12.983922:77.597397           12.983919:77.597389  \n",
       "\n",
       "[5 rows x 102 columns]"
      ]
     },
     "execution_count": 47,
     "metadata": {},
     "output_type": "execute_result"
    }
   ],
   "source": [
    "test.head()"
   ]
  },
  {
   "cell_type": "code",
   "execution_count": 48,
   "metadata": {},
   "outputs": [],
   "source": [
    "def plot_importances(clf):\n",
    "    importances = clf.get_fscore()\n",
    "    importances = sorted(importances.items(), key=lambda x: x[1])\n",
    "    x = list(zip(*importances))[0]\n",
    "    y = list(zip(*importances))[1]\n",
    "    x_pos = np.arange(len(x)) \n",
    "    plt.figure(figsize=(10,5))\n",
    "    plt.title('Feature importances')\n",
    "    plt.barh(range(len(y)), y, align='center')\n",
    "    plt.yticks(range(len(y)), x)\n",
    "    plt.ylim([-1, len(importances)])\n",
    "    plt.xlabel('F score')\n",
    "    plt.show()"
   ]
  },
  {
   "cell_type": "code",
   "execution_count": 49,
   "metadata": {},
   "outputs": [
    {
     "data": {
      "image/png": "[encoded data removed]",
      "text/plain": [
       "<Figure size 720x360 with 1 Axes>"
      ]
     },
     "metadata": {},
     "output_type": "display_data"
    }
   ],
   "source": [
    "plot_importances(model)"
   ]
  },
  {
   "cell_type": "code",
   "execution_count": 50,
   "metadata": {},
   "outputs": [
    {
     "name": "stdout",
     "output_type": "stream",
     "text": [
      "[0]\ttrain-rmse:5.9095\tvalid-rmse:5.90584\ttrain-error:1.31011\tvalid-error:1.30977\n",
      "Multiple eval metrics have been passed: 'valid-error' will be used for early stopping.\n",
      "\n",
      "Will train until valid-error hasn't improved in 50 rounds.\n",
      "[20]\ttrain-rmse:1.05208\tvalid-rmse:1.05224\ttrain-error:0.133855\tvalid-error:0.133955\n",
      "[40]\ttrain-rmse:0.724938\tvalid-rmse:0.732154\ttrain-error:0.096496\tvalid-error:0.097424\n",
      "[60]\ttrain-rmse:0.682669\tvalid-rmse:0.696343\ttrain-error:0.091528\tvalid-error:0.093302\n",
      "[80]\ttrain-rmse:0.659484\tvalid-rmse:0.679707\ttrain-error:0.088197\tvalid-error:0.090882\n",
      "[100]\ttrain-rmse:0.646777\tvalid-rmse:0.67133\ttrain-error:0.086482\tvalid-error:0.089764\n",
      "[120]\ttrain-rmse:0.637216\tvalid-rmse:0.666067\ttrain-error:0.085147\tvalid-error:0.089031\n",
      "[140]\ttrain-rmse:0.630766\tvalid-rmse:0.663035\ttrain-error:0.084234\tvalid-error:0.088606\n",
      "[160]\ttrain-rmse:0.624363\tvalid-rmse:0.659139\ttrain-error:0.083391\tvalid-error:0.088106\n",
      "[180]\ttrain-rmse:0.619212\tvalid-rmse:0.655842\ttrain-error:0.082722\tvalid-error:0.087691\n",
      "[200]\ttrain-rmse:0.61422\tvalid-rmse:0.653155\ttrain-error:0.082043\tvalid-error:0.087329\n",
      "[220]\ttrain-rmse:0.608536\tvalid-rmse:0.650154\ttrain-error:0.081292\tvalid-error:0.086946\n",
      "[240]\ttrain-rmse:0.604786\tvalid-rmse:0.648019\ttrain-error:0.08081\tvalid-error:0.086681\n",
      "[260]\ttrain-rmse:0.600955\tvalid-rmse:0.646206\ttrain-error:0.080279\tvalid-error:0.086436\n",
      "[280]\ttrain-rmse:0.596844\tvalid-rmse:0.644148\ttrain-error:0.079732\tvalid-error:0.086171\n",
      "[300]\ttrain-rmse:0.593622\tvalid-rmse:0.642565\ttrain-error:0.079299\tvalid-error:0.085966\n",
      "[320]\ttrain-rmse:0.590644\tvalid-rmse:0.641065\ttrain-error:0.078904\tvalid-error:0.085772\n",
      "[340]\ttrain-rmse:0.58708\tvalid-rmse:0.639291\ttrain-error:0.078428\tvalid-error:0.08554\n",
      "[360]\ttrain-rmse:0.58462\tvalid-rmse:0.638059\ttrain-error:0.078101\tvalid-error:0.085381\n",
      "[380]\ttrain-rmse:0.581106\tvalid-rmse:0.63651\ttrain-error:0.077627\tvalid-error:0.085181\n",
      "[400]\ttrain-rmse:0.578128\tvalid-rmse:0.635249\ttrain-error:0.077229\tvalid-error:0.085017\n",
      "[420]\ttrain-rmse:0.574433\tvalid-rmse:0.633205\ttrain-error:0.076739\tvalid-error:0.084752\n",
      "[440]\ttrain-rmse:0.571915\tvalid-rmse:0.632246\ttrain-error:0.076391\tvalid-error:0.084624\n",
      "[460]\ttrain-rmse:0.568886\tvalid-rmse:0.631035\ttrain-error:0.075988\tvalid-error:0.084473\n",
      "[480]\ttrain-rmse:0.566901\tvalid-rmse:0.630219\ttrain-error:0.07573\tvalid-error:0.084375\n",
      "[500]\ttrain-rmse:0.56502\tvalid-rmse:0.62949\ttrain-error:0.075483\tvalid-error:0.084284\n",
      "[520]\ttrain-rmse:0.563381\tvalid-rmse:0.628954\ttrain-error:0.075262\tvalid-error:0.084216\n",
      "[540]\ttrain-rmse:0.561636\tvalid-rmse:0.628196\ttrain-error:0.075027\tvalid-error:0.084115\n",
      "[560]\ttrain-rmse:0.559975\tvalid-rmse:0.627603\ttrain-error:0.074804\tvalid-error:0.084039\n",
      "[580]\ttrain-rmse:0.557754\tvalid-rmse:0.626686\ttrain-error:0.074511\tvalid-error:0.083926\n",
      "[600]\ttrain-rmse:0.556009\tvalid-rmse:0.62623\ttrain-error:0.074265\tvalid-error:0.083864\n",
      "[620]\ttrain-rmse:0.554283\tvalid-rmse:0.625702\ttrain-error:0.074033\tvalid-error:0.083796\n",
      "[640]\ttrain-rmse:0.552444\tvalid-rmse:0.625177\ttrain-error:0.073782\tvalid-error:0.083726\n",
      "[660]\ttrain-rmse:0.550193\tvalid-rmse:0.623992\ttrain-error:0.07349\tvalid-error:0.083579\n",
      "[680]\ttrain-rmse:0.548244\tvalid-rmse:0.623521\ttrain-error:0.073218\tvalid-error:0.083517\n",
      "[700]\ttrain-rmse:0.545982\tvalid-rmse:0.622636\ttrain-error:0.072915\tvalid-error:0.083402\n",
      "[720]\ttrain-rmse:0.544517\tvalid-rmse:0.622055\ttrain-error:0.072729\tvalid-error:0.083335\n",
      "[740]\ttrain-rmse:0.5425\tvalid-rmse:0.621412\ttrain-error:0.072455\tvalid-error:0.083254\n",
      "[760]\ttrain-rmse:0.540208\tvalid-rmse:0.620317\ttrain-error:0.072159\tvalid-error:0.083114\n",
      "[780]\ttrain-rmse:0.538644\tvalid-rmse:0.619751\ttrain-error:0.071942\tvalid-error:0.083036\n",
      "[800]\ttrain-rmse:0.536718\tvalid-rmse:0.618902\ttrain-error:0.071689\tvalid-error:0.082929\n",
      "[820]\ttrain-rmse:0.53523\tvalid-rmse:0.618407\ttrain-error:0.071486\tvalid-error:0.082865\n",
      "[840]\ttrain-rmse:0.533637\tvalid-rmse:0.617871\ttrain-error:0.071271\tvalid-error:0.082793\n",
      "[860]\ttrain-rmse:0.531762\tvalid-rmse:0.617099\ttrain-error:0.071026\tvalid-error:0.082696\n",
      "[880]\ttrain-rmse:0.530558\tvalid-rmse:0.616749\ttrain-error:0.070861\tvalid-error:0.08265\n",
      "[900]\ttrain-rmse:0.528992\tvalid-rmse:0.616247\ttrain-error:0.070646\tvalid-error:0.082584\n",
      "[920]\ttrain-rmse:0.527693\tvalid-rmse:0.615817\ttrain-error:0.07047\tvalid-error:0.082528\n",
      "[940]\ttrain-rmse:0.52645\tvalid-rmse:0.615476\ttrain-error:0.070309\tvalid-error:0.082489\n",
      "[960]\ttrain-rmse:0.5251\tvalid-rmse:0.615087\ttrain-error:0.070126\tvalid-error:0.082441\n",
      "[980]\ttrain-rmse:0.523689\tvalid-rmse:0.614556\ttrain-error:0.069931\tvalid-error:0.082368\n",
      "[1000]\ttrain-rmse:0.521972\tvalid-rmse:0.61389\ttrain-error:0.069705\tvalid-error:0.082284\n",
      "[1020]\ttrain-rmse:0.520796\tvalid-rmse:0.613482\ttrain-error:0.069546\tvalid-error:0.082231\n",
      "[1040]\ttrain-rmse:0.519211\tvalid-rmse:0.613007\ttrain-error:0.069334\tvalid-error:0.082169\n",
      "[1060]\ttrain-rmse:0.517669\tvalid-rmse:0.612545\ttrain-error:0.069124\tvalid-error:0.082117\n",
      "[1080]\ttrain-rmse:0.516487\tvalid-rmse:0.612212\ttrain-error:0.068966\tvalid-error:0.082073\n",
      "[1100]\ttrain-rmse:0.515144\tvalid-rmse:0.611755\ttrain-error:0.068789\tvalid-error:0.082016\n",
      "[1120]\ttrain-rmse:0.513704\tvalid-rmse:0.61117\ttrain-error:0.0686\tvalid-error:0.081943\n",
      "[1140]\ttrain-rmse:0.512271\tvalid-rmse:0.610751\ttrain-error:0.0684\tvalid-error:0.081886\n",
      "[1160]\ttrain-rmse:0.510896\tvalid-rmse:0.610421\ttrain-error:0.06822\tvalid-error:0.081847\n",
      "[1180]\ttrain-rmse:0.509548\tvalid-rmse:0.610081\ttrain-error:0.068039\tvalid-error:0.081806\n",
      "[1200]\ttrain-rmse:0.508438\tvalid-rmse:0.609792\ttrain-error:0.067895\tvalid-error:0.08177\n",
      "[1220]\ttrain-rmse:0.507184\tvalid-rmse:0.609454\ttrain-error:0.067726\tvalid-error:0.081727\n",
      "[1240]\ttrain-rmse:0.506028\tvalid-rmse:0.609181\ttrain-error:0.067562\tvalid-error:0.08169\n",
      "[1260]\ttrain-rmse:0.505382\tvalid-rmse:0.609047\ttrain-error:0.06748\tvalid-error:0.081678\n",
      "[1280]\ttrain-rmse:0.504393\tvalid-rmse:0.608707\ttrain-error:0.06735\tvalid-error:0.081636\n",
      "[1300]\ttrain-rmse:0.503492\tvalid-rmse:0.608434\ttrain-error:0.067229\tvalid-error:0.081598\n",
      "[1320]\ttrain-rmse:0.502146\tvalid-rmse:0.608108\ttrain-error:0.067046\tvalid-error:0.081559\n",
      "[1340]\ttrain-rmse:0.500795\tvalid-rmse:0.607846\ttrain-error:0.066856\tvalid-error:0.081524\n",
      "[1360]\ttrain-rmse:0.499842\tvalid-rmse:0.60758\ttrain-error:0.066728\tvalid-error:0.08149\n",
      "[1380]\ttrain-rmse:0.498872\tvalid-rmse:0.607373\ttrain-error:0.066592\tvalid-error:0.081462\n",
      "[1400]\ttrain-rmse:0.497893\tvalid-rmse:0.607189\ttrain-error:0.066462\tvalid-error:0.081441\n",
      "[1420]\ttrain-rmse:0.497146\tvalid-rmse:0.607072\ttrain-error:0.066361\tvalid-error:0.081426\n",
      "[1440]\ttrain-rmse:0.496184\tvalid-rmse:0.606781\ttrain-error:0.066231\tvalid-error:0.081389\n",
      "[1460]\ttrain-rmse:0.495344\tvalid-rmse:0.606547\ttrain-error:0.066129\tvalid-error:0.081364\n",
      "[1480]\ttrain-rmse:0.494233\tvalid-rmse:0.606393\ttrain-error:0.065974\tvalid-error:0.081345\n",
      "[1500]\ttrain-rmse:0.493074\tvalid-rmse:0.606078\ttrain-error:0.065814\tvalid-error:0.081303\n",
      "[1520]\ttrain-rmse:0.492056\tvalid-rmse:0.605923\ttrain-error:0.065675\tvalid-error:0.081285\n",
      "[1540]\ttrain-rmse:0.491277\tvalid-rmse:0.605798\ttrain-error:0.065562\tvalid-error:0.081267\n",
      "[1560]\ttrain-rmse:0.490333\tvalid-rmse:0.605524\ttrain-error:0.065433\tvalid-error:0.081231\n",
      "[1580]\ttrain-rmse:0.489157\tvalid-rmse:0.605293\ttrain-error:0.065271\tvalid-error:0.0812\n",
      "[1600]\ttrain-rmse:0.488166\tvalid-rmse:0.6051\ttrain-error:0.06514\tvalid-error:0.08118\n",
      "[1620]\ttrain-rmse:0.487099\tvalid-rmse:0.60488\ttrain-error:0.064992\tvalid-error:0.08115\n",
      "[1640]\ttrain-rmse:0.485903\tvalid-rmse:0.604692\ttrain-error:0.064831\tvalid-error:0.08113\n",
      "[1660]\ttrain-rmse:0.484982\tvalid-rmse:0.604493\ttrain-error:0.064707\tvalid-error:0.081105\n",
      "[1680]\ttrain-rmse:0.484157\tvalid-rmse:0.604287\ttrain-error:0.064596\tvalid-error:0.081078\n",
      "[1700]\ttrain-rmse:0.483393\tvalid-rmse:0.604097\ttrain-error:0.064494\tvalid-error:0.081055\n",
      "[1720]\ttrain-rmse:0.482372\tvalid-rmse:0.603811\ttrain-error:0.06436\tvalid-error:0.08102\n",
      "[1740]\ttrain-rmse:0.481424\tvalid-rmse:0.603617\ttrain-error:0.064228\tvalid-error:0.080994\n",
      "[1760]\ttrain-rmse:0.480527\tvalid-rmse:0.603416\ttrain-error:0.064106\tvalid-error:0.080971\n",
      "[1780]\ttrain-rmse:0.479715\tvalid-rmse:0.603295\ttrain-error:0.063998\tvalid-error:0.080957\n",
      "[1800]\ttrain-rmse:0.478834\tvalid-rmse:0.603108\ttrain-error:0.063879\tvalid-error:0.080933\n",
      "[1820]\ttrain-rmse:0.477908\tvalid-rmse:0.602833\ttrain-error:0.063756\tvalid-error:0.080897\n"
     ]
    },
    {
     "name": "stdout",
     "output_type": "stream",
     "text": [
      "[1840]\ttrain-rmse:0.476668\tvalid-rmse:0.602594\ttrain-error:0.063587\tvalid-error:0.080868\n",
      "[1860]\ttrain-rmse:0.475528\tvalid-rmse:0.602408\ttrain-error:0.063432\tvalid-error:0.080846\n",
      "[1880]\ttrain-rmse:0.474797\tvalid-rmse:0.602219\ttrain-error:0.063331\tvalid-error:0.080821\n",
      "[1900]\ttrain-rmse:0.473564\tvalid-rmse:0.602026\ttrain-error:0.063162\tvalid-error:0.080798\n",
      "[1920]\ttrain-rmse:0.472491\tvalid-rmse:0.601901\ttrain-error:0.063016\tvalid-error:0.080784\n",
      "[1940]\ttrain-rmse:0.47167\tvalid-rmse:0.601786\ttrain-error:0.062903\tvalid-error:0.080769\n",
      "[1960]\ttrain-rmse:0.470564\tvalid-rmse:0.601641\ttrain-error:0.062754\tvalid-error:0.080752\n",
      "[1980]\ttrain-rmse:0.469774\tvalid-rmse:0.601504\ttrain-error:0.062645\tvalid-error:0.080735\n",
      "[2000]\ttrain-rmse:0.469085\tvalid-rmse:0.60142\ttrain-error:0.062553\tvalid-error:0.080726\n",
      "[2020]\ttrain-rmse:0.468296\tvalid-rmse:0.601308\ttrain-error:0.062447\tvalid-error:0.080711\n",
      "[2040]\ttrain-rmse:0.467715\tvalid-rmse:0.60126\ttrain-error:0.062366\tvalid-error:0.080705\n",
      "[2060]\ttrain-rmse:0.466942\tvalid-rmse:0.601126\ttrain-error:0.062268\tvalid-error:0.080694\n",
      "[2080]\ttrain-rmse:0.466018\tvalid-rmse:0.600989\ttrain-error:0.062145\tvalid-error:0.080679\n",
      "[2100]\ttrain-rmse:0.465175\tvalid-rmse:0.60081\ttrain-error:0.062026\tvalid-error:0.080653\n",
      "[2120]\ttrain-rmse:0.464375\tvalid-rmse:0.600653\ttrain-error:0.061919\tvalid-error:0.080635\n",
      "[2140]\ttrain-rmse:0.463408\tvalid-rmse:0.600454\ttrain-error:0.061787\tvalid-error:0.080609\n",
      "[2160]\ttrain-rmse:0.462528\tvalid-rmse:0.600315\ttrain-error:0.061662\tvalid-error:0.08059\n",
      "[2180]\ttrain-rmse:0.461684\tvalid-rmse:0.60014\ttrain-error:0.061557\tvalid-error:0.080573\n",
      "[2200]\ttrain-rmse:0.460679\tvalid-rmse:0.59995\ttrain-error:0.061421\tvalid-error:0.080545\n",
      "[2220]\ttrain-rmse:0.460004\tvalid-rmse:0.599887\ttrain-error:0.061331\tvalid-error:0.080538\n",
      "[2240]\ttrain-rmse:0.459181\tvalid-rmse:0.59977\ttrain-error:0.061218\tvalid-error:0.080522\n",
      "[2260]\ttrain-rmse:0.4582\tvalid-rmse:0.599562\ttrain-error:0.061087\tvalid-error:0.080497\n",
      "[2280]\ttrain-rmse:0.457459\tvalid-rmse:0.59945\ttrain-error:0.060986\tvalid-error:0.080482\n",
      "[2300]\ttrain-rmse:0.456721\tvalid-rmse:0.599338\ttrain-error:0.060886\tvalid-error:0.080469\n",
      "[2320]\ttrain-rmse:0.455971\tvalid-rmse:0.599218\ttrain-error:0.060783\tvalid-error:0.080452\n",
      "[2340]\ttrain-rmse:0.455256\tvalid-rmse:0.599089\ttrain-error:0.060688\tvalid-error:0.080436\n",
      "[2360]\ttrain-rmse:0.454356\tvalid-rmse:0.598974\ttrain-error:0.060567\tvalid-error:0.080422\n",
      "[2380]\ttrain-rmse:0.453503\tvalid-rmse:0.598789\ttrain-error:0.060452\tvalid-error:0.080398\n",
      "[2400]\ttrain-rmse:0.452724\tvalid-rmse:0.598596\ttrain-error:0.060349\tvalid-error:0.080374\n",
      "[2420]\ttrain-rmse:0.451838\tvalid-rmse:0.598362\ttrain-error:0.060231\tvalid-error:0.080343\n",
      "[2440]\ttrain-rmse:0.451007\tvalid-rmse:0.598213\ttrain-error:0.060123\tvalid-error:0.080327\n",
      "[2460]\ttrain-rmse:0.450242\tvalid-rmse:0.598139\ttrain-error:0.060017\tvalid-error:0.080316\n",
      "[2480]\ttrain-rmse:0.449066\tvalid-rmse:0.597977\ttrain-error:0.059856\tvalid-error:0.080292\n",
      "[2500]\ttrain-rmse:0.448314\tvalid-rmse:0.597865\ttrain-error:0.059752\tvalid-error:0.080277\n",
      "[2520]\ttrain-rmse:0.447571\tvalid-rmse:0.59771\ttrain-error:0.059654\tvalid-error:0.080259\n",
      "[2540]\ttrain-rmse:0.446839\tvalid-rmse:0.59767\ttrain-error:0.059554\tvalid-error:0.080254\n",
      "[2560]\ttrain-rmse:0.446158\tvalid-rmse:0.597595\ttrain-error:0.059461\tvalid-error:0.080245\n",
      "[2580]\ttrain-rmse:0.445166\tvalid-rmse:0.597507\ttrain-error:0.059325\tvalid-error:0.080233\n",
      "[2600]\ttrain-rmse:0.444454\tvalid-rmse:0.597408\ttrain-error:0.059232\tvalid-error:0.080223\n",
      "[2620]\ttrain-rmse:0.443562\tvalid-rmse:0.597181\ttrain-error:0.059111\tvalid-error:0.080193\n",
      "[2640]\ttrain-rmse:0.44266\tvalid-rmse:0.596935\ttrain-error:0.058996\tvalid-error:0.080164\n",
      "[2660]\ttrain-rmse:0.441889\tvalid-rmse:0.596806\ttrain-error:0.058892\tvalid-error:0.080147\n",
      "[2680]\ttrain-rmse:0.441058\tvalid-rmse:0.596708\ttrain-error:0.058779\tvalid-error:0.080135\n",
      "[2700]\ttrain-rmse:0.440257\tvalid-rmse:0.596611\ttrain-error:0.058673\tvalid-error:0.080123\n",
      "[2720]\ttrain-rmse:0.439598\tvalid-rmse:0.596468\ttrain-error:0.058584\tvalid-error:0.080104\n",
      "[2740]\ttrain-rmse:0.438524\tvalid-rmse:0.596139\ttrain-error:0.058443\tvalid-error:0.080062\n",
      "[2760]\ttrain-rmse:0.437926\tvalid-rmse:0.595985\ttrain-error:0.058362\tvalid-error:0.080043\n",
      "[2780]\ttrain-rmse:0.437205\tvalid-rmse:0.595822\ttrain-error:0.058267\tvalid-error:0.080023\n",
      "[2800]\ttrain-rmse:0.436395\tvalid-rmse:0.595663\ttrain-error:0.058158\tvalid-error:0.080001\n",
      "[2820]\ttrain-rmse:0.435677\tvalid-rmse:0.595478\ttrain-error:0.058059\tvalid-error:0.079976\n",
      "[2840]\ttrain-rmse:0.434949\tvalid-rmse:0.595411\ttrain-error:0.057957\tvalid-error:0.079965\n",
      "[2860]\ttrain-rmse:0.434384\tvalid-rmse:0.59534\ttrain-error:0.057884\tvalid-error:0.079959\n",
      "[2880]\ttrain-rmse:0.433624\tvalid-rmse:0.59518\ttrain-error:0.057781\tvalid-error:0.079939\n",
      "[2900]\ttrain-rmse:0.432964\tvalid-rmse:0.595107\ttrain-error:0.05769\tvalid-error:0.079931\n",
      "[2920]\ttrain-rmse:0.432438\tvalid-rmse:0.595063\ttrain-error:0.05762\tvalid-error:0.079926\n",
      "[2940]\ttrain-rmse:0.431803\tvalid-rmse:0.594993\ttrain-error:0.057536\tvalid-error:0.079919\n",
      "[2960]\ttrain-rmse:0.431292\tvalid-rmse:0.594986\ttrain-error:0.057468\tvalid-error:0.07992\n",
      "[2980]\ttrain-rmse:0.43067\tvalid-rmse:0.594952\ttrain-error:0.057383\tvalid-error:0.079916\n",
      "[3000]\ttrain-rmse:0.429935\tvalid-rmse:0.594817\ttrain-error:0.057283\tvalid-error:0.079898\n",
      "[3020]\ttrain-rmse:0.429125\tvalid-rmse:0.594769\ttrain-error:0.057174\tvalid-error:0.079894\n",
      "[3040]\ttrain-rmse:0.428204\tvalid-rmse:0.594593\ttrain-error:0.057048\tvalid-error:0.07987\n",
      "[3060]\ttrain-rmse:0.427441\tvalid-rmse:0.594495\ttrain-error:0.056943\tvalid-error:0.079858\n",
      "[3080]\ttrain-rmse:0.42663\tvalid-rmse:0.594377\ttrain-error:0.056826\tvalid-error:0.079838\n",
      "[3100]\ttrain-rmse:0.425965\tvalid-rmse:0.594311\ttrain-error:0.05674\tvalid-error:0.079834\n",
      "[3120]\ttrain-rmse:0.425246\tvalid-rmse:0.594273\ttrain-error:0.056641\tvalid-error:0.07983\n",
      "[3140]\ttrain-rmse:0.424422\tvalid-rmse:0.59414\ttrain-error:0.056531\tvalid-error:0.079814\n",
      "[3160]\ttrain-rmse:0.423542\tvalid-rmse:0.593982\ttrain-error:0.056415\tvalid-error:0.079796\n",
      "[3180]\ttrain-rmse:0.422828\tvalid-rmse:0.593882\ttrain-error:0.056316\tvalid-error:0.079782\n",
      "[3200]\ttrain-rmse:0.422146\tvalid-rmse:0.593764\ttrain-error:0.056228\tvalid-error:0.079769\n",
      "[3220]\ttrain-rmse:0.421295\tvalid-rmse:0.593656\ttrain-error:0.056116\tvalid-error:0.079757\n",
      "[3240]\ttrain-rmse:0.420704\tvalid-rmse:0.593589\ttrain-error:0.056032\tvalid-error:0.079748\n",
      "[3260]\ttrain-rmse:0.420186\tvalid-rmse:0.593507\ttrain-error:0.055964\tvalid-error:0.079738\n",
      "[3280]\ttrain-rmse:0.419638\tvalid-rmse:0.593488\ttrain-error:0.055888\tvalid-error:0.079737\n",
      "[3300]\ttrain-rmse:0.419013\tvalid-rmse:0.59339\ttrain-error:0.055803\tvalid-error:0.079724\n",
      "[3320]\ttrain-rmse:0.41824\tvalid-rmse:0.593196\ttrain-error:0.055698\tvalid-error:0.079699\n",
      "[3340]\ttrain-rmse:0.41763\tvalid-rmse:0.59313\ttrain-error:0.055617\tvalid-error:0.079694\n",
      "[3360]\ttrain-rmse:0.417028\tvalid-rmse:0.593026\ttrain-error:0.055532\tvalid-error:0.07968\n",
      "[3380]\ttrain-rmse:0.416453\tvalid-rmse:0.592984\ttrain-error:0.055456\tvalid-error:0.079675\n",
      "[3400]\ttrain-rmse:0.415697\tvalid-rmse:0.592948\ttrain-error:0.055352\tvalid-error:0.079672\n",
      "[3420]\ttrain-rmse:0.415106\tvalid-rmse:0.592867\ttrain-error:0.055274\tvalid-error:0.079663\n",
      "[3440]\ttrain-rmse:0.414218\tvalid-rmse:0.592747\ttrain-error:0.055156\tvalid-error:0.079648\n",
      "[3460]\ttrain-rmse:0.413813\tvalid-rmse:0.592714\ttrain-error:0.055103\tvalid-error:0.079646\n",
      "[3480]\ttrain-rmse:0.413259\tvalid-rmse:0.592671\ttrain-error:0.055023\tvalid-error:0.079639\n",
      "[3500]\ttrain-rmse:0.412685\tvalid-rmse:0.592587\ttrain-error:0.054948\tvalid-error:0.07963\n",
      "[3520]\ttrain-rmse:0.411909\tvalid-rmse:0.592496\ttrain-error:0.054843\tvalid-error:0.079618\n",
      "[3540]\ttrain-rmse:0.411274\tvalid-rmse:0.592378\ttrain-error:0.054754\tvalid-error:0.079604\n",
      "[3560]\ttrain-rmse:0.410818\tvalid-rmse:0.592302\ttrain-error:0.054693\tvalid-error:0.079595\n",
      "[3580]\ttrain-rmse:0.410289\tvalid-rmse:0.592229\ttrain-error:0.054624\tvalid-error:0.079586\n",
      "[3600]\ttrain-rmse:0.409843\tvalid-rmse:0.592168\ttrain-error:0.054567\tvalid-error:0.07958\n",
      "[3620]\ttrain-rmse:0.409107\tvalid-rmse:0.59212\ttrain-error:0.054469\tvalid-error:0.079575\n",
      "[3640]\ttrain-rmse:0.408517\tvalid-rmse:0.592064\ttrain-error:0.054387\tvalid-error:0.079566\n",
      "[3660]\ttrain-rmse:0.407893\tvalid-rmse:0.592032\ttrain-error:0.054305\tvalid-error:0.079565\n",
      "[3680]\ttrain-rmse:0.407245\tvalid-rmse:0.591999\ttrain-error:0.054217\tvalid-error:0.079561\n"
     ]
    },
    {
     "name": "stdout",
     "output_type": "stream",
     "text": [
      "[3700]\ttrain-rmse:0.406544\tvalid-rmse:0.591855\ttrain-error:0.054125\tvalid-error:0.079544\n",
      "[3720]\ttrain-rmse:0.405925\tvalid-rmse:0.591865\ttrain-error:0.054038\tvalid-error:0.079546\n",
      "[3740]\ttrain-rmse:0.405174\tvalid-rmse:0.59182\ttrain-error:0.053935\tvalid-error:0.079537\n",
      "[3760]\ttrain-rmse:0.404422\tvalid-rmse:0.591729\ttrain-error:0.053835\tvalid-error:0.079526\n",
      "[3780]\ttrain-rmse:0.40386\tvalid-rmse:0.591695\ttrain-error:0.053759\tvalid-error:0.079521\n",
      "[3800]\ttrain-rmse:0.403063\tvalid-rmse:0.591597\ttrain-error:0.053654\tvalid-error:0.079511\n",
      "[3820]\ttrain-rmse:0.402402\tvalid-rmse:0.591576\ttrain-error:0.053561\tvalid-error:0.079508\n",
      "[3840]\ttrain-rmse:0.401727\tvalid-rmse:0.591496\ttrain-error:0.05347\tvalid-error:0.0795\n",
      "[3860]\ttrain-rmse:0.401206\tvalid-rmse:0.591398\ttrain-error:0.0534\tvalid-error:0.079488\n",
      "[3880]\ttrain-rmse:0.400573\tvalid-rmse:0.591291\ttrain-error:0.053317\tvalid-error:0.079476\n",
      "[3900]\ttrain-rmse:0.399976\tvalid-rmse:0.591245\ttrain-error:0.053233\tvalid-error:0.079468\n",
      "[3920]\ttrain-rmse:0.399341\tvalid-rmse:0.591149\ttrain-error:0.05315\tvalid-error:0.079456\n",
      "[3940]\ttrain-rmse:0.398742\tvalid-rmse:0.591033\ttrain-error:0.053068\tvalid-error:0.07944\n",
      "[3960]\ttrain-rmse:0.398049\tvalid-rmse:0.590909\ttrain-error:0.052978\tvalid-error:0.079424\n",
      "[3980]\ttrain-rmse:0.397487\tvalid-rmse:0.590858\ttrain-error:0.0529\tvalid-error:0.079416\n",
      "[4000]\ttrain-rmse:0.396803\tvalid-rmse:0.590779\ttrain-error:0.052812\tvalid-error:0.079408\n",
      "[4020]\ttrain-rmse:0.396338\tvalid-rmse:0.590771\ttrain-error:0.052747\tvalid-error:0.079406\n",
      "[4040]\ttrain-rmse:0.395625\tvalid-rmse:0.590683\ttrain-error:0.052649\tvalid-error:0.079396\n",
      "[4060]\ttrain-rmse:0.394925\tvalid-rmse:0.590611\ttrain-error:0.052551\tvalid-error:0.079385\n",
      "[4080]\ttrain-rmse:0.394327\tvalid-rmse:0.590537\ttrain-error:0.05247\tvalid-error:0.079376\n",
      "[4100]\ttrain-rmse:0.393846\tvalid-rmse:0.590483\ttrain-error:0.052409\tvalid-error:0.079371\n",
      "[4120]\ttrain-rmse:0.393356\tvalid-rmse:0.59042\ttrain-error:0.05234\tvalid-error:0.079363\n",
      "[4140]\ttrain-rmse:0.392895\tvalid-rmse:0.590392\ttrain-error:0.052276\tvalid-error:0.079358\n",
      "[4160]\ttrain-rmse:0.392404\tvalid-rmse:0.590352\ttrain-error:0.052211\tvalid-error:0.079354\n",
      "[4180]\ttrain-rmse:0.391845\tvalid-rmse:0.590328\ttrain-error:0.052133\tvalid-error:0.079351\n",
      "[4200]\ttrain-rmse:0.391253\tvalid-rmse:0.59028\ttrain-error:0.052051\tvalid-error:0.079345\n",
      "[4220]\ttrain-rmse:0.390761\tvalid-rmse:0.590229\ttrain-error:0.051987\tvalid-error:0.07934\n",
      "[4240]\ttrain-rmse:0.390238\tvalid-rmse:0.590175\ttrain-error:0.05191\tvalid-error:0.07933\n",
      "[4260]\ttrain-rmse:0.389558\tvalid-rmse:0.590137\ttrain-error:0.051824\tvalid-error:0.079329\n",
      "[4280]\ttrain-rmse:0.389017\tvalid-rmse:0.590089\ttrain-error:0.051749\tvalid-error:0.079323\n",
      "[4300]\ttrain-rmse:0.388226\tvalid-rmse:0.590003\ttrain-error:0.051643\tvalid-error:0.079313\n",
      "[4320]\ttrain-rmse:0.387511\tvalid-rmse:0.589927\ttrain-error:0.051548\tvalid-error:0.079304\n",
      "[4340]\ttrain-rmse:0.386928\tvalid-rmse:0.589792\ttrain-error:0.051468\tvalid-error:0.079287\n",
      "[4360]\ttrain-rmse:0.386564\tvalid-rmse:0.589752\ttrain-error:0.051422\tvalid-error:0.079283\n",
      "[4380]\ttrain-rmse:0.386018\tvalid-rmse:0.589755\ttrain-error:0.051344\tvalid-error:0.079283\n",
      "[4400]\ttrain-rmse:0.3854\tvalid-rmse:0.589687\ttrain-error:0.051262\tvalid-error:0.079275\n",
      "[4420]\ttrain-rmse:0.384732\tvalid-rmse:0.589577\ttrain-error:0.051169\tvalid-error:0.07926\n",
      "[4440]\ttrain-rmse:0.384196\tvalid-rmse:0.589551\ttrain-error:0.051098\tvalid-error:0.079258\n",
      "[4460]\ttrain-rmse:0.38349\tvalid-rmse:0.589445\ttrain-error:0.051004\tvalid-error:0.079245\n",
      "[4480]\ttrain-rmse:0.382644\tvalid-rmse:0.589325\ttrain-error:0.050892\tvalid-error:0.079231\n",
      "[4500]\ttrain-rmse:0.382034\tvalid-rmse:0.589259\ttrain-error:0.050813\tvalid-error:0.079224\n",
      "[4520]\ttrain-rmse:0.381509\tvalid-rmse:0.589218\ttrain-error:0.050741\tvalid-error:0.079218\n",
      "[4540]\ttrain-rmse:0.380848\tvalid-rmse:0.589125\ttrain-error:0.050653\tvalid-error:0.079206\n",
      "[4560]\ttrain-rmse:0.380102\tvalid-rmse:0.589011\ttrain-error:0.050551\tvalid-error:0.079191\n",
      "[4580]\ttrain-rmse:0.379481\tvalid-rmse:0.588915\ttrain-error:0.05047\tvalid-error:0.079179\n",
      "[4600]\ttrain-rmse:0.379002\tvalid-rmse:0.588875\ttrain-error:0.050405\tvalid-error:0.079174\n",
      "[4620]\ttrain-rmse:0.378372\tvalid-rmse:0.588855\ttrain-error:0.050316\tvalid-error:0.079173\n",
      "[4640]\ttrain-rmse:0.378038\tvalid-rmse:0.588874\ttrain-error:0.05027\tvalid-error:0.079176\n",
      "Stopping. Best iteration:\n",
      "[4591]\ttrain-rmse:0.379207\tvalid-rmse:0.588864\ttrain-error:0.050432\tvalid-error:0.079172\n",
      "\n"
     ]
    }
   ],
   "source": [
    "model1 = xgb.train(plst, dtrain, 20000, watchlist, early_stopping_rounds=50, maximize=False, \n",
    "                  verbose_eval=20, feval=rmsle_eval)"
   ]
  },
  {
   "cell_type": "code",
   "execution_count": 53,
   "metadata": {},
   "outputs": [
    {
     "data": {
      "text/html": [
       "<div>\n",
       "<style scoped>\n",
       "    .dataframe tbody tr th:only-of-type {\n",
       "        vertical-align: middle;\n",
       "    }\n",
       "\n",
       "    .dataframe tbody tr th {\n",
       "        vertical-align: top;\n",
       "    }\n",
       "\n",
       "    .dataframe thead th {\n",
       "        text-align: right;\n",
       "    }\n",
       "</style>\n",
       "<table border=\"1\" class=\"dataframe\">\n",
       "  <thead>\n",
       "    <tr style=\"text-align: right;\">\n",
       "      <th></th>\n",
       "      <th>Start_Latitude</th>\n",
       "      <th>Start_Longitude</th>\n",
       "      <th>End_Latitude</th>\n",
       "      <th>End_Longitude</th>\n",
       "      <th>pickup_weekday</th>\n",
       "      <th>pickup_hour</th>\n",
       "      <th>pickup_month</th>\n",
       "      <th>pickup_day</th>\n",
       "      <th>haversine_distance</th>\n",
       "      <th>pickup_cluster</th>\n",
       "      <th>dropoff_cluster</th>\n",
       "    </tr>\n",
       "  </thead>\n",
       "  <tbody>\n",
       "    <tr>\n",
       "      <th>23489</th>\n",
       "      <td>12.920570</td>\n",
       "      <td>77.644554</td>\n",
       "      <td>12.920472</td>\n",
       "      <td>77.644562</td>\n",
       "      <td>4</td>\n",
       "      <td>11</td>\n",
       "      <td>7</td>\n",
       "      <td>1</td>\n",
       "      <td>0.010932</td>\n",
       "      <td>71</td>\n",
       "      <td>71</td>\n",
       "    </tr>\n",
       "    <tr>\n",
       "      <th>223758</th>\n",
       "      <td>12.922138</td>\n",
       "      <td>77.560295</td>\n",
       "      <td>12.928347</td>\n",
       "      <td>77.565094</td>\n",
       "      <td>5</td>\n",
       "      <td>19</td>\n",
       "      <td>7</td>\n",
       "      <td>2</td>\n",
       "      <td>0.864393</td>\n",
       "      <td>96</td>\n",
       "      <td>96</td>\n",
       "    </tr>\n",
       "    <tr>\n",
       "      <th>103831</th>\n",
       "      <td>13.041971</td>\n",
       "      <td>77.547890</td>\n",
       "      <td>13.044000</td>\n",
       "      <td>77.554230</td>\n",
       "      <td>0</td>\n",
       "      <td>7</td>\n",
       "      <td>7</td>\n",
       "      <td>4</td>\n",
       "      <td>0.722898</td>\n",
       "      <td>68</td>\n",
       "      <td>68</td>\n",
       "    </tr>\n",
       "    <tr>\n",
       "      <th>252361</th>\n",
       "      <td>13.052594</td>\n",
       "      <td>77.556770</td>\n",
       "      <td>12.996522</td>\n",
       "      <td>77.573250</td>\n",
       "      <td>1</td>\n",
       "      <td>9</td>\n",
       "      <td>7</td>\n",
       "      <td>5</td>\n",
       "      <td>6.485510</td>\n",
       "      <td>68</td>\n",
       "      <td>85</td>\n",
       "    </tr>\n",
       "    <tr>\n",
       "      <th>357205</th>\n",
       "      <td>12.977092</td>\n",
       "      <td>77.585693</td>\n",
       "      <td>12.963691</td>\n",
       "      <td>77.577827</td>\n",
       "      <td>0</td>\n",
       "      <td>15</td>\n",
       "      <td>7</td>\n",
       "      <td>4</td>\n",
       "      <td>1.716673</td>\n",
       "      <td>64</td>\n",
       "      <td>95</td>\n",
       "    </tr>\n",
       "  </tbody>\n",
       "</table>\n",
       "</div>"
      ],
      "text/plain": [
       "        Start_Latitude  Start_Longitude  End_Latitude  End_Longitude  \\\n",
       "23489        12.920570        77.644554     12.920472      77.644562   \n",
       "223758       12.922138        77.560295     12.928347      77.565094   \n",
       "103831       13.041971        77.547890     13.044000      77.554230   \n",
       "252361       13.052594        77.556770     12.996522      77.573250   \n",
       "357205       12.977092        77.585693     12.963691      77.577827   \n",
       "\n",
       "        pickup_weekday  pickup_hour  pickup_month  pickup_day  \\\n",
       "23489                4           11             7           1   \n",
       "223758               5           19             7           2   \n",
       "103831               0            7             7           4   \n",
       "252361               1            9             7           5   \n",
       "357205               0           15             7           4   \n",
       "\n",
       "        haversine_distance  pickup_cluster  dropoff_cluster  \n",
       "23489             0.010932              71               71  \n",
       "223758            0.864393              96               96  \n",
       "103831            0.722898              68               68  \n",
       "252361            6.485510              68               85  \n",
       "357205            1.716673              64               95  "
      ]
     },
     "execution_count": 53,
     "metadata": {},
     "output_type": "execute_result"
    }
   ],
   "source": [
    "X_train.head()"
   ]
  },
  {
   "cell_type": "code",
   "execution_count": 54,
   "metadata": {},
   "outputs": [
    {
     "data": {
      "text/plain": [
       "23489     5.017280\n",
       "223758    8.032035\n",
       "103831    4.795791\n",
       "252361    7.535830\n",
       "357205    7.275865\n",
       "Name: Duration, dtype: float64"
      ]
     },
     "execution_count": 54,
     "metadata": {},
     "output_type": "execute_result"
    }
   ],
   "source": [
    "y_train.head()"
   ]
  },
  {
   "cell_type": "code",
   "execution_count": 55,
   "metadata": {},
   "outputs": [
    {
     "data": {
      "text/html": [
       "<div>\n",
       "<style scoped>\n",
       "    .dataframe tbody tr th:only-of-type {\n",
       "        vertical-align: middle;\n",
       "    }\n",
       "\n",
       "    .dataframe tbody tr th {\n",
       "        vertical-align: top;\n",
       "    }\n",
       "\n",
       "    .dataframe thead th {\n",
       "        text-align: right;\n",
       "    }\n",
       "</style>\n",
       "<table border=\"1\" class=\"dataframe\">\n",
       "  <thead>\n",
       "    <tr style=\"text-align: right;\">\n",
       "      <th></th>\n",
       "      <th>Start_Latitude</th>\n",
       "      <th>Start_Longitude</th>\n",
       "      <th>End_Latitude</th>\n",
       "      <th>End_Longitude</th>\n",
       "      <th>pickup_weekday</th>\n",
       "      <th>pickup_hour</th>\n",
       "      <th>pickup_month</th>\n",
       "      <th>pickup_day</th>\n",
       "      <th>haversine_distance</th>\n",
       "      <th>pickup_cluster</th>\n",
       "      <th>dropoff_cluster</th>\n",
       "    </tr>\n",
       "  </thead>\n",
       "  <tbody>\n",
       "    <tr>\n",
       "      <th>292785</th>\n",
       "      <td>13.019123</td>\n",
       "      <td>77.501167</td>\n",
       "      <td>13.019302</td>\n",
       "      <td>77.500969</td>\n",
       "      <td>4</td>\n",
       "      <td>20</td>\n",
       "      <td>7</td>\n",
       "      <td>1</td>\n",
       "      <td>0.029263</td>\n",
       "      <td>31</td>\n",
       "      <td>31</td>\n",
       "    </tr>\n",
       "    <tr>\n",
       "      <th>47827</th>\n",
       "      <td>12.997841</td>\n",
       "      <td>77.503036</td>\n",
       "      <td>13.036997</td>\n",
       "      <td>77.518326</td>\n",
       "      <td>5</td>\n",
       "      <td>13</td>\n",
       "      <td>7</td>\n",
       "      <td>2</td>\n",
       "      <td>4.658417</td>\n",
       "      <td>53</td>\n",
       "      <td>3</td>\n",
       "    </tr>\n",
       "    <tr>\n",
       "      <th>110485</th>\n",
       "      <td>13.042474</td>\n",
       "      <td>77.592728</td>\n",
       "      <td>13.022606</td>\n",
       "      <td>77.647537</td>\n",
       "      <td>5</td>\n",
       "      <td>10</td>\n",
       "      <td>7</td>\n",
       "      <td>2</td>\n",
       "      <td>6.335195</td>\n",
       "      <td>33</td>\n",
       "      <td>30</td>\n",
       "    </tr>\n",
       "    <tr>\n",
       "      <th>468953</th>\n",
       "      <td>12.913483</td>\n",
       "      <td>77.487083</td>\n",
       "      <td>12.904719</td>\n",
       "      <td>77.531898</td>\n",
       "      <td>0</td>\n",
       "      <td>8</td>\n",
       "      <td>7</td>\n",
       "      <td>4</td>\n",
       "      <td>4.954055</td>\n",
       "      <td>46</td>\n",
       "      <td>25</td>\n",
       "    </tr>\n",
       "    <tr>\n",
       "      <th>35148</th>\n",
       "      <td>12.963665</td>\n",
       "      <td>77.569656</td>\n",
       "      <td>12.936341</td>\n",
       "      <td>77.518768</td>\n",
       "      <td>5</td>\n",
       "      <td>9</td>\n",
       "      <td>7</td>\n",
       "      <td>2</td>\n",
       "      <td>6.296173</td>\n",
       "      <td>95</td>\n",
       "      <td>82</td>\n",
       "    </tr>\n",
       "  </tbody>\n",
       "</table>\n",
       "</div>"
      ],
      "text/plain": [
       "        Start_Latitude  Start_Longitude  End_Latitude  End_Longitude  \\\n",
       "292785       13.019123        77.501167     13.019302      77.500969   \n",
       "47827        12.997841        77.503036     13.036997      77.518326   \n",
       "110485       13.042474        77.592728     13.022606      77.647537   \n",
       "468953       12.913483        77.487083     12.904719      77.531898   \n",
       "35148        12.963665        77.569656     12.936341      77.518768   \n",
       "\n",
       "        pickup_weekday  pickup_hour  pickup_month  pickup_day  \\\n",
       "292785               4           20             7           1   \n",
       "47827                5           13             7           2   \n",
       "110485               5           10             7           2   \n",
       "468953               0            8             7           4   \n",
       "35148                5            9             7           2   \n",
       "\n",
       "        haversine_distance  pickup_cluster  dropoff_cluster  \n",
       "292785            0.029263              31               31  \n",
       "47827             4.658417              53                3  \n",
       "110485            6.335195              33               30  \n",
       "468953            4.954055              46               25  \n",
       "35148             6.296173              95               82  "
      ]
     },
     "execution_count": 55,
     "metadata": {},
     "output_type": "execute_result"
    }
   ],
   "source": [
    "X_valid.head()"
   ]
  },
  {
   "cell_type": "code",
   "execution_count": 56,
   "metadata": {},
   "outputs": [
    {
     "data": {
      "text/plain": [
       "292785    7.841493\n",
       "47827     7.571474\n",
       "110485    7.509335\n",
       "468953    7.247793\n",
       "35148     6.863803\n",
       "Name: Duration, dtype: float64"
      ]
     },
     "execution_count": 56,
     "metadata": {},
     "output_type": "execute_result"
    }
   ],
   "source": [
    "y_valid.head()"
   ]
  },
  {
   "cell_type": "code",
   "execution_count": 58,
   "metadata": {},
   "outputs": [],
   "source": [
    "ytest = model.predict(dvalid)"
   ]
  },
  {
   "cell_type": "code",
   "execution_count": 60,
   "metadata": {},
   "outputs": [
    {
     "data": {
      "text/plain": [
       "array([6.855321 , 7.647018 , 7.733429 , ..., 7.29433  , 8.027117 ,\n",
       "       6.5341973], dtype=float32)"
      ]
     },
     "execution_count": 60,
     "metadata": {},
     "output_type": "execute_result"
    }
   ],
   "source": [
    "ytest"
   ]
  },
  {
   "cell_type": "code",
   "execution_count": 70,
   "metadata": {},
   "outputs": [],
   "source": [
    "y_valid=np.array(y_valid)"
   ]
  },
  {
   "cell_type": "code",
   "execution_count": 71,
   "metadata": {},
   "outputs": [
    {
     "data": {
      "text/plain": [
       "array([7.84149292, 7.57147365, 7.50933527, ..., 8.22844388, 8.00969536,\n",
       "       5.6347896 ])"
      ]
     },
     "execution_count": 71,
     "metadata": {},
     "output_type": "execute_result"
    }
   ],
   "source": [
    "y_valid"
   ]
  },
  {
   "cell_type": "code",
   "execution_count": 72,
   "metadata": {},
   "outputs": [],
   "source": [
    "t1 = np.expm1(y_valid)\n",
    "t2 = np.expm1(ytest)"
   ]
  },
  {
   "cell_type": "code",
   "execution_count": 73,
   "metadata": {},
   "outputs": [
    {
     "data": {
      "text/plain": [
       "array([2543., 1941., 1824., ..., 3745., 3009.,  279.])"
      ]
     },
     "execution_count": 73,
     "metadata": {},
     "output_type": "execute_result"
    }
   ],
   "source": [
    "t1"
   ]
  },
  {
   "cell_type": "code",
   "execution_count": 74,
   "metadata": {},
   "outputs": [
    {
     "data": {
      "text/plain": [
       "array([ 947.9166, 2093.3906, 2282.4185, ..., 1470.9305, 3061.898 ,\n",
       "        687.2811], dtype=float32)"
      ]
     },
     "execution_count": 74,
     "metadata": {},
     "output_type": "execute_result"
    }
   ],
   "source": [
    "t2"
   ]
  },
  {
   "cell_type": "code",
   "execution_count": 75,
   "metadata": {},
   "outputs": [],
   "source": [
    "from sklearn.metrics import mean_squared_error"
   ]
  },
  {
   "cell_type": "code",
   "execution_count": 77,
   "metadata": {},
   "outputs": [],
   "source": [
    "a = mean_squared_error(t1, t2)"
   ]
  },
  {
   "cell_type": "code",
   "execution_count": 78,
   "metadata": {},
   "outputs": [],
   "source": [
    "r = np.sqrt(a)"
   ]
  },
  {
   "cell_type": "code",
   "execution_count": 79,
   "metadata": {},
   "outputs": [
    {
     "data": {
      "text/plain": [
       "1031.473935652715"
      ]
     },
     "execution_count": 79,
     "metadata": {},
     "output_type": "execute_result"
    }
   ],
   "source": [
    "r"
   ]
  },
  {
   "cell_type": "code",
   "execution_count": 80,
   "metadata": {},
   "outputs": [
    {
     "ename": "AttributeError",
     "evalue": "'Booster' object has no attribute 'to_pickle'",
     "output_type": "error",
     "traceback": [
      "\u001b[0;31m---------------------------------------------------------------------------\u001b[0m",
      "\u001b[0;31mAttributeError\u001b[0m                            Traceback (most recent call last)",
      "\u001b[0;32m<ipython-input-80-e1b6da0f4c45>\u001b[0m in \u001b[0;36m<module>\u001b[0;34m()\u001b[0m\n\u001b[0;32m----> 1\u001b[0;31m \u001b[0mmodel\u001b[0m\u001b[0;34m.\u001b[0m\u001b[0mto_pickle\u001b[0m\u001b[0;34m(\u001b[0m\u001b[0;34m'model.pickle'\u001b[0m\u001b[0;34m)\u001b[0m\u001b[0;34m\u001b[0m\u001b[0m\n\u001b[0m\u001b[1;32m      2\u001b[0m \u001b[0mmodel1\u001b[0m\u001b[0;34m.\u001b[0m\u001b[0mto_pickle\u001b[0m\u001b[0;34m(\u001b[0m\u001b[0;34m'model1.pickle'\u001b[0m\u001b[0;34m)\u001b[0m\u001b[0;34m\u001b[0m\u001b[0m\n",
      "\u001b[0;31mAttributeError\u001b[0m: 'Booster' object has no attribute 'to_pickle'"
     ]
    }
   ],
   "source": [
    "model.to_pickle('model.pickle')\n",
    "model1.to_pickle('model1.pickle')"
   ]
  },
  {
   "cell_type": "code",
   "execution_count": 81,
   "metadata": {},
   "outputs": [],
   "source": [
    "import pickle"
   ]
  },
  {
   "cell_type": "code",
   "execution_count": 82,
   "metadata": {},
   "outputs": [],
   "source": [
    "filename = 'model.sav'\n",
    "pickle.dump(model, open(filename, 'wb'))"
   ]
  },
  {
   "cell_type": "code",
   "execution_count": 83,
   "metadata": {},
   "outputs": [],
   "source": [
    "filename = 'model1.sav'\n",
    "pickle.dump(model1, open(filename, 'wb'))"
   ]
  },
  {
   "cell_type": "code",
   "execution_count": 84,
   "metadata": {},
   "outputs": [],
   "source": [
    "df.to_pickle('train15.pickle')"
   ]
  },
  {
   "cell_type": "code",
   "execution_count": 87,
   "metadata": {},
   "outputs": [
    {
     "data": {
      "text/html": [
       "<div>\n",
       "<style scoped>\n",
       "    .dataframe tbody tr th:only-of-type {\n",
       "        vertical-align: middle;\n",
       "    }\n",
       "\n",
       "    .dataframe tbody tr th {\n",
       "        vertical-align: top;\n",
       "    }\n",
       "\n",
       "    .dataframe thead th {\n",
       "        text-align: right;\n",
       "    }\n",
       "</style>\n",
       "<table border=\"1\" class=\"dataframe\">\n",
       "  <thead>\n",
       "    <tr style=\"text-align: right;\">\n",
       "      <th></th>\n",
       "      <th>Start_Latitude</th>\n",
       "      <th>Start_Longitude</th>\n",
       "      <th>End_Latitude</th>\n",
       "      <th>End_Longitude</th>\n",
       "      <th>pickup_weekday</th>\n",
       "      <th>pickup_hour</th>\n",
       "      <th>pickup_month</th>\n",
       "      <th>pickup_day</th>\n",
       "      <th>haversine_distance</th>\n",
       "      <th>pickup_cluster</th>\n",
       "      <th>dropoff_cluster</th>\n",
       "    </tr>\n",
       "  </thead>\n",
       "  <tbody>\n",
       "    <tr>\n",
       "      <th>292785</th>\n",
       "      <td>13.019123</td>\n",
       "      <td>77.501167</td>\n",
       "      <td>13.019302</td>\n",
       "      <td>77.500969</td>\n",
       "      <td>4</td>\n",
       "      <td>20</td>\n",
       "      <td>7</td>\n",
       "      <td>1</td>\n",
       "      <td>0.029263</td>\n",
       "      <td>31</td>\n",
       "      <td>31</td>\n",
       "    </tr>\n",
       "    <tr>\n",
       "      <th>47827</th>\n",
       "      <td>12.997841</td>\n",
       "      <td>77.503036</td>\n",
       "      <td>13.036997</td>\n",
       "      <td>77.518326</td>\n",
       "      <td>5</td>\n",
       "      <td>13</td>\n",
       "      <td>7</td>\n",
       "      <td>2</td>\n",
       "      <td>4.658417</td>\n",
       "      <td>53</td>\n",
       "      <td>3</td>\n",
       "    </tr>\n",
       "    <tr>\n",
       "      <th>110485</th>\n",
       "      <td>13.042474</td>\n",
       "      <td>77.592728</td>\n",
       "      <td>13.022606</td>\n",
       "      <td>77.647537</td>\n",
       "      <td>5</td>\n",
       "      <td>10</td>\n",
       "      <td>7</td>\n",
       "      <td>2</td>\n",
       "      <td>6.335195</td>\n",
       "      <td>33</td>\n",
       "      <td>30</td>\n",
       "    </tr>\n",
       "    <tr>\n",
       "      <th>468953</th>\n",
       "      <td>12.913483</td>\n",
       "      <td>77.487083</td>\n",
       "      <td>12.904719</td>\n",
       "      <td>77.531898</td>\n",
       "      <td>0</td>\n",
       "      <td>8</td>\n",
       "      <td>7</td>\n",
       "      <td>4</td>\n",
       "      <td>4.954055</td>\n",
       "      <td>46</td>\n",
       "      <td>25</td>\n",
       "    </tr>\n",
       "    <tr>\n",
       "      <th>35148</th>\n",
       "      <td>12.963665</td>\n",
       "      <td>77.569656</td>\n",
       "      <td>12.936341</td>\n",
       "      <td>77.518768</td>\n",
       "      <td>5</td>\n",
       "      <td>9</td>\n",
       "      <td>7</td>\n",
       "      <td>2</td>\n",
       "      <td>6.296173</td>\n",
       "      <td>95</td>\n",
       "      <td>82</td>\n",
       "    </tr>\n",
       "  </tbody>\n",
       "</table>\n",
       "</div>"
      ],
      "text/plain": [
       "        Start_Latitude  Start_Longitude  End_Latitude  End_Longitude  \\\n",
       "292785       13.019123        77.501167     13.019302      77.500969   \n",
       "47827        12.997841        77.503036     13.036997      77.518326   \n",
       "110485       13.042474        77.592728     13.022606      77.647537   \n",
       "468953       12.913483        77.487083     12.904719      77.531898   \n",
       "35148        12.963665        77.569656     12.936341      77.518768   \n",
       "\n",
       "        pickup_weekday  pickup_hour  pickup_month  pickup_day  \\\n",
       "292785               4           20             7           1   \n",
       "47827                5           13             7           2   \n",
       "110485               5           10             7           2   \n",
       "468953               0            8             7           4   \n",
       "35148                5            9             7           2   \n",
       "\n",
       "        haversine_distance  pickup_cluster  dropoff_cluster  \n",
       "292785            0.029263              31               31  \n",
       "47827             4.658417              53                3  \n",
       "110485            6.335195              33               30  \n",
       "468953            4.954055              46               25  \n",
       "35148             6.296173              95               82  "
      ]
     },
     "execution_count": 87,
     "metadata": {},
     "output_type": "execute_result"
    }
   ],
   "source": [
    "X_valid.head()"
   ]
  },
  {
   "cell_type": "code",
   "execution_count": null,
   "metadata": {},
   "outputs": [],
   "source": []
  }
 ],
 "metadata": {
  "kernelspec": {
   "display_name": "Python 3",
   "language": "python",
   "name": "python3"
  },
  "language_info": {
   "codemirror_mode": {
    "name": "ipython",
    "version": 3
   },
   "file_extension": ".py",
   "mimetype": "text/x-python",
   "name": "python",
   "nbconvert_exporter": "python",
   "pygments_lexer": "ipython3",
   "version": "3.6.7"
  }
 },
 "nbformat": 4,
 "nbformat_minor": 2
}
