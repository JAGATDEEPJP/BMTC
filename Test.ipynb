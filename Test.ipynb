{
 "cells": [
  {
   "cell_type": "code",
   "execution_count": 1,
   "metadata": {},
   "outputs": [],
   "source": [
    "import pandas as pd\n",
    "import numpy as np\n",
    "import matplotlib.pyplot as plt\n",
    "import seaborn as sns\n",
    "import xgboost as xgb\n",
    "import warnings\n",
    "warnings.filterwarnings('ignore')\n",
    "\n",
    "from matplotlib import cm\n",
    "\n",
    "from sklearn.model_selection import train_test_split\n",
    "from sklearn.preprocessing import LabelEncoder\n",
    "from sklearn.cluster import MiniBatchKMeans\n",
    "\n",
    "%matplotlib inline"
   ]
  },
  {
   "cell_type": "code",
   "execution_count": 2,
   "metadata": {},
   "outputs": [],
   "source": [
    "df = pd.read_pickle('BMTC.pickle')"
   ]
  },
  {
   "cell_type": "code",
   "execution_count": 4,
   "metadata": {
    "scrolled": true
   },
   "outputs": [
    {
     "data": {
      "text/html": [
       "<div>\n",
       "<style scoped>\n",
       "    .dataframe tbody tr th:only-of-type {\n",
       "        vertical-align: middle;\n",
       "    }\n",
       "\n",
       "    .dataframe tbody tr th {\n",
       "        vertical-align: top;\n",
       "    }\n",
       "\n",
       "    .dataframe thead th {\n",
       "        text-align: right;\n",
       "    }\n",
       "</style>\n",
       "<table border=\"1\" class=\"dataframe\">\n",
       "  <thead>\n",
       "    <tr style=\"text-align: right;\">\n",
       "      <th></th>\n",
       "      <th>LATITUDE1</th>\n",
       "      <th>LONGITUDE1</th>\n",
       "      <th>LATITUDE2</th>\n",
       "      <th>LONGITUDE2</th>\n",
       "      <th>LATITUDE3</th>\n",
       "      <th>LONGITUDE3</th>\n",
       "      <th>LATITUDE4</th>\n",
       "      <th>LONGITUDE4</th>\n",
       "      <th>LATITUDE5</th>\n",
       "      <th>LONGITUDE5</th>\n",
       "      <th>...</th>\n",
       "      <th>LONGITUDE96</th>\n",
       "      <th>LATITUDE97</th>\n",
       "      <th>LONGITUDE97</th>\n",
       "      <th>LATITUDE98</th>\n",
       "      <th>LONGITUDE98</th>\n",
       "      <th>LATITUDE99</th>\n",
       "      <th>LONGITUDE99</th>\n",
       "      <th>LATITUDE100</th>\n",
       "      <th>LONGITUDE100</th>\n",
       "      <th>Time</th>\n",
       "    </tr>\n",
       "  </thead>\n",
       "  <tbody>\n",
       "    <tr>\n",
       "      <th>0</th>\n",
       "      <td>12.845321</td>\n",
       "      <td>77.667030</td>\n",
       "      <td>12.845290</td>\n",
       "      <td>77.666107</td>\n",
       "      <td>12.845347</td>\n",
       "      <td>77.665565</td>\n",
       "      <td>12.845364</td>\n",
       "      <td>77.664871</td>\n",
       "      <td>12.845376</td>\n",
       "      <td>77.664261</td>\n",
       "      <td>...</td>\n",
       "      <td>77.625946</td>\n",
       "      <td>12.912030</td>\n",
       "      <td>77.625778</td>\n",
       "      <td>12.912779</td>\n",
       "      <td>77.625366</td>\n",
       "      <td>12.913666</td>\n",
       "      <td>77.624832</td>\n",
       "      <td>12.914212</td>\n",
       "      <td>77.624512</td>\n",
       "      <td>23550</td>\n",
       "    </tr>\n",
       "    <tr>\n",
       "      <th>1</th>\n",
       "      <td>12.965988</td>\n",
       "      <td>77.535179</td>\n",
       "      <td>12.965984</td>\n",
       "      <td>77.535217</td>\n",
       "      <td>12.965984</td>\n",
       "      <td>77.535217</td>\n",
       "      <td>12.965984</td>\n",
       "      <td>77.535217</td>\n",
       "      <td>12.965984</td>\n",
       "      <td>77.535217</td>\n",
       "      <td>...</td>\n",
       "      <td>77.535217</td>\n",
       "      <td>12.965984</td>\n",
       "      <td>77.535217</td>\n",
       "      <td>12.965984</td>\n",
       "      <td>77.535217</td>\n",
       "      <td>12.965984</td>\n",
       "      <td>77.535217</td>\n",
       "      <td>12.965984</td>\n",
       "      <td>77.535217</td>\n",
       "      <td>19353</td>\n",
       "    </tr>\n",
       "    <tr>\n",
       "      <th>2</th>\n",
       "      <td>12.957028</td>\n",
       "      <td>77.559196</td>\n",
       "      <td>12.956954</td>\n",
       "      <td>77.559349</td>\n",
       "      <td>12.956981</td>\n",
       "      <td>77.559494</td>\n",
       "      <td>12.957012</td>\n",
       "      <td>77.559494</td>\n",
       "      <td>12.957021</td>\n",
       "      <td>77.559479</td>\n",
       "      <td>...</td>\n",
       "      <td>77.549812</td>\n",
       "      <td>12.925502</td>\n",
       "      <td>77.549606</td>\n",
       "      <td>12.925762</td>\n",
       "      <td>77.549080</td>\n",
       "      <td>12.926178</td>\n",
       "      <td>77.548477</td>\n",
       "      <td>12.926508</td>\n",
       "      <td>77.548103</td>\n",
       "      <td>19574</td>\n",
       "    </tr>\n",
       "    <tr>\n",
       "      <th>3</th>\n",
       "      <td>13.020818</td>\n",
       "      <td>77.502739</td>\n",
       "      <td>13.020818</td>\n",
       "      <td>77.502739</td>\n",
       "      <td>13.020818</td>\n",
       "      <td>77.502739</td>\n",
       "      <td>13.020818</td>\n",
       "      <td>77.502739</td>\n",
       "      <td>13.020818</td>\n",
       "      <td>77.502739</td>\n",
       "      <td>...</td>\n",
       "      <td>77.502739</td>\n",
       "      <td>13.020818</td>\n",
       "      <td>77.502739</td>\n",
       "      <td>13.020818</td>\n",
       "      <td>77.502739</td>\n",
       "      <td>13.020818</td>\n",
       "      <td>77.502739</td>\n",
       "      <td>13.020818</td>\n",
       "      <td>77.502739</td>\n",
       "      <td>9692</td>\n",
       "    </tr>\n",
       "    <tr>\n",
       "      <th>4</th>\n",
       "      <td>12.982555</td>\n",
       "      <td>77.603226</td>\n",
       "      <td>12.982555</td>\n",
       "      <td>77.603226</td>\n",
       "      <td>12.982555</td>\n",
       "      <td>77.603226</td>\n",
       "      <td>12.982556</td>\n",
       "      <td>77.603226</td>\n",
       "      <td>12.982556</td>\n",
       "      <td>77.603226</td>\n",
       "      <td>...</td>\n",
       "      <td>77.598190</td>\n",
       "      <td>12.983925</td>\n",
       "      <td>77.597755</td>\n",
       "      <td>12.983923</td>\n",
       "      <td>77.597389</td>\n",
       "      <td>12.983922</td>\n",
       "      <td>77.597397</td>\n",
       "      <td>12.983919</td>\n",
       "      <td>77.597389</td>\n",
       "      <td>68284</td>\n",
       "    </tr>\n",
       "  </tbody>\n",
       "</table>\n",
       "<p>5 rows × 201 columns</p>\n",
       "</div>"
      ],
      "text/plain": [
       "   LATITUDE1  LONGITUDE1  LATITUDE2  LONGITUDE2  LATITUDE3  LONGITUDE3  \\\n",
       "0  12.845321   77.667030  12.845290   77.666107  12.845347   77.665565   \n",
       "1  12.965988   77.535179  12.965984   77.535217  12.965984   77.535217   \n",
       "2  12.957028   77.559196  12.956954   77.559349  12.956981   77.559494   \n",
       "3  13.020818   77.502739  13.020818   77.502739  13.020818   77.502739   \n",
       "4  12.982555   77.603226  12.982555   77.603226  12.982555   77.603226   \n",
       "\n",
       "   LATITUDE4  LONGITUDE4  LATITUDE5  LONGITUDE5  ...    LONGITUDE96  \\\n",
       "0  12.845364   77.664871  12.845376   77.664261  ...      77.625946   \n",
       "1  12.965984   77.535217  12.965984   77.535217  ...      77.535217   \n",
       "2  12.957012   77.559494  12.957021   77.559479  ...      77.549812   \n",
       "3  13.020818   77.502739  13.020818   77.502739  ...      77.502739   \n",
       "4  12.982556   77.603226  12.982556   77.603226  ...      77.598190   \n",
       "\n",
       "   LATITUDE97  LONGITUDE97  LATITUDE98  LONGITUDE98  LATITUDE99  LONGITUDE99  \\\n",
       "0   12.912030    77.625778   12.912779    77.625366   12.913666    77.624832   \n",
       "1   12.965984    77.535217   12.965984    77.535217   12.965984    77.535217   \n",
       "2   12.925502    77.549606   12.925762    77.549080   12.926178    77.548477   \n",
       "3   13.020818    77.502739   13.020818    77.502739   13.020818    77.502739   \n",
       "4   12.983925    77.597755   12.983923    77.597389   12.983922    77.597397   \n",
       "\n",
       "   LATITUDE100  LONGITUDE100   Time  \n",
       "0    12.914212     77.624512  23550  \n",
       "1    12.965984     77.535217  19353  \n",
       "2    12.926508     77.548103  19574  \n",
       "3    13.020818     77.502739   9692  \n",
       "4    12.983919     77.597389  68284  \n",
       "\n",
       "[5 rows x 201 columns]"
      ]
     },
     "execution_count": 4,
     "metadata": {},
     "output_type": "execute_result"
    }
   ],
   "source": [
    "df.head()"
   ]
  },
  {
   "cell_type": "code",
   "execution_count": 3,
   "metadata": {},
   "outputs": [],
   "source": [
    "df1 = pd.read_csv('test.csv')"
   ]
  },
  {
   "cell_type": "code",
   "execution_count": 4,
   "metadata": {},
   "outputs": [],
   "source": [
    "test = pd.DataFrame()"
   ]
  },
  {
   "cell_type": "code",
   "execution_count": 7,
   "metadata": {},
   "outputs": [
    {
     "data": {
      "text/html": [
       "<div>\n",
       "<style scoped>\n",
       "    .dataframe tbody tr th:only-of-type {\n",
       "        vertical-align: middle;\n",
       "    }\n",
       "\n",
       "    .dataframe tbody tr th {\n",
       "        vertical-align: top;\n",
       "    }\n",
       "\n",
       "    .dataframe thead th {\n",
       "        text-align: right;\n",
       "    }\n",
       "</style>\n",
       "<table border=\"1\" class=\"dataframe\">\n",
       "  <thead>\n",
       "    <tr style=\"text-align: right;\">\n",
       "      <th></th>\n",
       "      <th>Id</th>\n",
       "      <th>TimeStamp</th>\n",
       "      <th>LATLONG1</th>\n",
       "      <th>LATLONG2</th>\n",
       "      <th>LATLONG3</th>\n",
       "      <th>LATLONG4</th>\n",
       "      <th>LATLONG5</th>\n",
       "      <th>LATLONG6</th>\n",
       "      <th>LATLONG7</th>\n",
       "      <th>LATLONG8</th>\n",
       "      <th>...</th>\n",
       "      <th>LATLONG91</th>\n",
       "      <th>LATLONG92</th>\n",
       "      <th>LATLONG93</th>\n",
       "      <th>LATLONG94</th>\n",
       "      <th>LATLONG95</th>\n",
       "      <th>LATLONG96</th>\n",
       "      <th>LATLONG97</th>\n",
       "      <th>LATLONG98</th>\n",
       "      <th>LATLONG99</th>\n",
       "      <th>LATLONG100</th>\n",
       "    </tr>\n",
       "  </thead>\n",
       "  <tbody>\n",
       "    <tr>\n",
       "      <th>0</th>\n",
       "      <td>150220445</td>\n",
       "      <td>2016-07-22 06:32:30</td>\n",
       "      <td>12.845321:77.66703000000003</td>\n",
       "      <td>12.845289999999999:77.666107</td>\n",
       "      <td>12.845347:77.665565</td>\n",
       "      <td>12.845364:77.66487099999998</td>\n",
       "      <td>12.845376:77.664261</td>\n",
       "      <td>12.84543:77.663361</td>\n",
       "      <td>12.845457000000001:77.662323</td>\n",
       "      <td>12.845512:77.661636</td>\n",
       "      <td>...</td>\n",
       "      <td>12.907288000000001:77.628647</td>\n",
       "      <td>12.908197:77.628113</td>\n",
       "      <td>12.909328:77.627449</td>\n",
       "      <td>12.910283999999999:77.6269</td>\n",
       "      <td>12.911159:77.626396</td>\n",
       "      <td>12.911705:77.625946</td>\n",
       "      <td>12.91203:77.625778</td>\n",
       "      <td>12.912778999999999:77.625366</td>\n",
       "      <td>12.913666000000001:77.624832</td>\n",
       "      <td>12.914212:77.624512</td>\n",
       "    </tr>\n",
       "    <tr>\n",
       "      <th>1</th>\n",
       "      <td>150811705</td>\n",
       "      <td>2016-07-31 05:22:33</td>\n",
       "      <td>12.965988000000001:77.535179</td>\n",
       "      <td>12.965983999999999:77.535217</td>\n",
       "      <td>12.965983999999999:77.535217</td>\n",
       "      <td>12.965983999999999:77.535217</td>\n",
       "      <td>12.965983999999999:77.535217</td>\n",
       "      <td>12.965983999999999:77.535217</td>\n",
       "      <td>12.965983999999999:77.535217</td>\n",
       "      <td>12.965983999999999:77.535217</td>\n",
       "      <td>...</td>\n",
       "      <td>12.965983999999999:77.535217</td>\n",
       "      <td>12.965983999999999:77.535217</td>\n",
       "      <td>12.965983999999999:77.535217</td>\n",
       "      <td>12.965983999999999:77.535217</td>\n",
       "      <td>12.965983999999999:77.535217</td>\n",
       "      <td>12.965983999999999:77.535217</td>\n",
       "      <td>12.965983999999999:77.535217</td>\n",
       "      <td>12.965983999999999:77.535217</td>\n",
       "      <td>12.965983999999999:77.535217</td>\n",
       "      <td>12.965983999999999:77.535217</td>\n",
       "    </tr>\n",
       "    <tr>\n",
       "      <th>2</th>\n",
       "      <td>150218073</td>\n",
       "      <td>2016-07-22 05:26:14</td>\n",
       "      <td>12.957028:77.559196</td>\n",
       "      <td>12.956954:77.559349</td>\n",
       "      <td>12.956980999999999:77.559494</td>\n",
       "      <td>12.957011999999999:77.559494</td>\n",
       "      <td>12.957021000000001:77.55947900000002</td>\n",
       "      <td>12.957024:77.55947900000002</td>\n",
       "      <td>12.957024:77.55947900000002</td>\n",
       "      <td>12.95702:77.55947900000002</td>\n",
       "      <td>...</td>\n",
       "      <td>12.927736999999999:77.551399</td>\n",
       "      <td>12.927241:77.551102</td>\n",
       "      <td>12.926368:77.550606</td>\n",
       "      <td>12.925618:77.550125</td>\n",
       "      <td>12.925413:77.55001800000002</td>\n",
       "      <td>12.925419:77.549812</td>\n",
       "      <td>12.925502:77.54960600000003</td>\n",
       "      <td>12.925761999999999:77.54908</td>\n",
       "      <td>12.926178:77.548477</td>\n",
       "      <td>12.926508:77.548103</td>\n",
       "    </tr>\n",
       "    <tr>\n",
       "      <th>3</th>\n",
       "      <td>150218420</td>\n",
       "      <td>2016-07-23 02:41:32</td>\n",
       "      <td>13.020817999999998:77.502739</td>\n",
       "      <td>13.020817999999998:77.502739</td>\n",
       "      <td>13.020817999999998:77.502739</td>\n",
       "      <td>13.020817999999998:77.502739</td>\n",
       "      <td>13.020817999999998:77.502739</td>\n",
       "      <td>13.020817999999998:77.502739</td>\n",
       "      <td>13.020817999999998:77.502739</td>\n",
       "      <td>13.020817999999998:77.502739</td>\n",
       "      <td>...</td>\n",
       "      <td>13.020817999999998:77.502739</td>\n",
       "      <td>13.020817999999998:77.502739</td>\n",
       "      <td>13.020817999999998:77.502739</td>\n",
       "      <td>13.020817999999998:77.502739</td>\n",
       "      <td>13.020817999999998:77.502739</td>\n",
       "      <td>13.020817999999998:77.502739</td>\n",
       "      <td>13.020817999999998:77.502739</td>\n",
       "      <td>13.020817999999998:77.502739</td>\n",
       "      <td>13.020817999999998:77.502739</td>\n",
       "      <td>13.020817999999998:77.502739</td>\n",
       "    </tr>\n",
       "    <tr>\n",
       "      <th>4</th>\n",
       "      <td>150219092</td>\n",
       "      <td>2016-07-22 18:58:04</td>\n",
       "      <td>12.982555:77.603226</td>\n",
       "      <td>12.982555:77.603226</td>\n",
       "      <td>12.982555:77.603226</td>\n",
       "      <td>12.982556:77.603226</td>\n",
       "      <td>12.982556:77.603226</td>\n",
       "      <td>12.982556:77.603226</td>\n",
       "      <td>12.982556:77.603226</td>\n",
       "      <td>12.982556:77.603226</td>\n",
       "      <td>...</td>\n",
       "      <td>12.98435:77.600571</td>\n",
       "      <td>12.984285:77.600075</td>\n",
       "      <td>12.984244:77.599525</td>\n",
       "      <td>12.984176:77.59906</td>\n",
       "      <td>12.984106:77.598648</td>\n",
       "      <td>12.98403:77.59819</td>\n",
       "      <td>12.983925:77.597755</td>\n",
       "      <td>12.983922999999999:77.597389</td>\n",
       "      <td>12.983922:77.597397</td>\n",
       "      <td>12.983919:77.597389</td>\n",
       "    </tr>\n",
       "  </tbody>\n",
       "</table>\n",
       "<p>5 rows × 102 columns</p>\n",
       "</div>"
      ],
      "text/plain": [
       "          Id            TimeStamp                      LATLONG1  \\\n",
       "0  150220445  2016-07-22 06:32:30   12.845321:77.66703000000003   \n",
       "1  150811705  2016-07-31 05:22:33  12.965988000000001:77.535179   \n",
       "2  150218073  2016-07-22 05:26:14           12.957028:77.559196   \n",
       "3  150218420  2016-07-23 02:41:32  13.020817999999998:77.502739   \n",
       "4  150219092  2016-07-22 18:58:04           12.982555:77.603226   \n",
       "\n",
       "                       LATLONG2                      LATLONG3  \\\n",
       "0  12.845289999999999:77.666107           12.845347:77.665565   \n",
       "1  12.965983999999999:77.535217  12.965983999999999:77.535217   \n",
       "2           12.956954:77.559349  12.956980999999999:77.559494   \n",
       "3  13.020817999999998:77.502739  13.020817999999998:77.502739   \n",
       "4           12.982555:77.603226           12.982555:77.603226   \n",
       "\n",
       "                       LATLONG4                              LATLONG5  \\\n",
       "0   12.845364:77.66487099999998                   12.845376:77.664261   \n",
       "1  12.965983999999999:77.535217          12.965983999999999:77.535217   \n",
       "2  12.957011999999999:77.559494  12.957021000000001:77.55947900000002   \n",
       "3  13.020817999999998:77.502739          13.020817999999998:77.502739   \n",
       "4           12.982556:77.603226                   12.982556:77.603226   \n",
       "\n",
       "                       LATLONG6                      LATLONG7  \\\n",
       "0            12.84543:77.663361  12.845457000000001:77.662323   \n",
       "1  12.965983999999999:77.535217  12.965983999999999:77.535217   \n",
       "2   12.957024:77.55947900000002   12.957024:77.55947900000002   \n",
       "3  13.020817999999998:77.502739  13.020817999999998:77.502739   \n",
       "4           12.982556:77.603226           12.982556:77.603226   \n",
       "\n",
       "                       LATLONG8              ...               \\\n",
       "0           12.845512:77.661636              ...                \n",
       "1  12.965983999999999:77.535217              ...                \n",
       "2    12.95702:77.55947900000002              ...                \n",
       "3  13.020817999999998:77.502739              ...                \n",
       "4           12.982556:77.603226              ...                \n",
       "\n",
       "                      LATLONG91                     LATLONG92  \\\n",
       "0  12.907288000000001:77.628647           12.908197:77.628113   \n",
       "1  12.965983999999999:77.535217  12.965983999999999:77.535217   \n",
       "2  12.927736999999999:77.551399           12.927241:77.551102   \n",
       "3  13.020817999999998:77.502739  13.020817999999998:77.502739   \n",
       "4            12.98435:77.600571           12.984285:77.600075   \n",
       "\n",
       "                      LATLONG93                     LATLONG94  \\\n",
       "0           12.909328:77.627449    12.910283999999999:77.6269   \n",
       "1  12.965983999999999:77.535217  12.965983999999999:77.535217   \n",
       "2           12.926368:77.550606           12.925618:77.550125   \n",
       "3  13.020817999999998:77.502739  13.020817999999998:77.502739   \n",
       "4           12.984244:77.599525            12.984176:77.59906   \n",
       "\n",
       "                      LATLONG95                     LATLONG96  \\\n",
       "0           12.911159:77.626396           12.911705:77.625946   \n",
       "1  12.965983999999999:77.535217  12.965983999999999:77.535217   \n",
       "2   12.925413:77.55001800000002           12.925419:77.549812   \n",
       "3  13.020817999999998:77.502739  13.020817999999998:77.502739   \n",
       "4           12.984106:77.598648             12.98403:77.59819   \n",
       "\n",
       "                      LATLONG97                     LATLONG98  \\\n",
       "0            12.91203:77.625778  12.912778999999999:77.625366   \n",
       "1  12.965983999999999:77.535217  12.965983999999999:77.535217   \n",
       "2   12.925502:77.54960600000003   12.925761999999999:77.54908   \n",
       "3  13.020817999999998:77.502739  13.020817999999998:77.502739   \n",
       "4           12.983925:77.597755  12.983922999999999:77.597389   \n",
       "\n",
       "                      LATLONG99                    LATLONG100  \n",
       "0  12.913666000000001:77.624832           12.914212:77.624512  \n",
       "1  12.965983999999999:77.535217  12.965983999999999:77.535217  \n",
       "2           12.926178:77.548477           12.926508:77.548103  \n",
       "3  13.020817999999998:77.502739  13.020817999999998:77.502739  \n",
       "4           12.983922:77.597397           12.983919:77.597389  \n",
       "\n",
       "[5 rows x 102 columns]"
      ]
     },
     "execution_count": 7,
     "metadata": {},
     "output_type": "execute_result"
    }
   ],
   "source": [
    "df1.head()"
   ]
  },
  {
   "cell_type": "code",
   "execution_count": 5,
   "metadata": {},
   "outputs": [],
   "source": [
    "train = pd.read_pickle('train15.pickle')"
   ]
  },
  {
   "cell_type": "code",
   "execution_count": 10,
   "metadata": {},
   "outputs": [
    {
     "name": "stdout",
     "output_type": "stream",
     "text": [
      "<class 'pandas.core.frame.DataFrame'>\n",
      "Int64Index: 415016 entries, 3 to 487464\n",
      "Data columns (total 16 columns):\n",
      "ID                    415016 non-null object\n",
      "Start_Time            415016 non-null datetime64[ns]\n",
      "End_Time              415016 non-null datetime64[ns]\n",
      "Start_Latitude        415016 non-null float64\n",
      "Start_Longitude       415016 non-null float64\n",
      "End_Latitude          415016 non-null float64\n",
      "End_Longitude         415016 non-null float64\n",
      "Duration              415016 non-null float64\n",
      "pickup_date           415016 non-null object\n",
      "pickup_weekday        415016 non-null int64\n",
      "pickup_hour           415016 non-null int64\n",
      "pickup_month          415016 non-null int64\n",
      "pickup_day            415016 non-null int64\n",
      "haversine_distance    415016 non-null float64\n",
      "pickup_cluster        415016 non-null int32\n",
      "dropoff_cluster       415016 non-null int32\n",
      "dtypes: datetime64[ns](2), float64(6), int32(2), int64(4), object(2)\n",
      "memory usage: 50.7+ MB\n"
     ]
    }
   ],
   "source": [
    "train.info()"
   ]
  },
  {
   "cell_type": "code",
   "execution_count": 6,
   "metadata": {},
   "outputs": [],
   "source": [
    "test['ID'] = df1['Id']"
   ]
  },
  {
   "cell_type": "code",
   "execution_count": 7,
   "metadata": {},
   "outputs": [],
   "source": [
    "test['Start_Time'] = pd.to_datetime(df1['TimeStamp'])"
   ]
  },
  {
   "cell_type": "code",
   "execution_count": 8,
   "metadata": {},
   "outputs": [],
   "source": [
    "test['Start_Latitude'] = df['LATITUDE1']"
   ]
  },
  {
   "cell_type": "code",
   "execution_count": 9,
   "metadata": {},
   "outputs": [],
   "source": [
    "test['Start_Latitude'] = df['LATITUDE1']"
   ]
  },
  {
   "cell_type": "code",
   "execution_count": 10,
   "metadata": {},
   "outputs": [],
   "source": [
    "test['End_Latitude'] = df['LATITUDE2']\n",
    "test['End_Longitude'] = df['LONGITUDE2']"
   ]
  },
  {
   "cell_type": "code",
   "execution_count": 21,
   "metadata": {},
   "outputs": [
    {
     "name": "stdout",
     "output_type": "stream",
     "text": [
      "<class 'pandas.core.frame.DataFrame'>\n",
      "RangeIndex: 108 entries, 0 to 107\n",
      "Data columns (total 6 columns):\n",
      "ID                 108 non-null int64\n",
      "Start_Time         108 non-null datetime64[ns]\n",
      "Start_Latitude     108 non-null float64\n",
      "Start_Longitude    108 non-null float64\n",
      "End_Latitude       108 non-null float64\n",
      "End_Longitude      108 non-null float64\n",
      "dtypes: datetime64[ns](1), float64(4), int64(1)\n",
      "memory usage: 5.1 KB\n"
     ]
    }
   ],
   "source": [
    "test.info()"
   ]
  },
  {
   "cell_type": "code",
   "execution_count": 11,
   "metadata": {},
   "outputs": [],
   "source": [
    "def kmeanret(test):\n",
    "    coords = np.vstack((test[['Start_Latitude',  'Start_Longitude']].values,\n",
    "                        test[['End_Latitude', 'End_Longitude']].values,\n",
    "                        test[['Start_Latitude',  'Start_Longitude']].values,\n",
    "                        test[['End_Latitude', 'End_Longitude']].values))\n",
    "    kmeans = MiniBatchKMeans(n_clusters=100, batch_size=10000).fit(coords)\n",
    "    return kmeans"
   ]
  },
  {
   "cell_type": "code",
   "execution_count": 14,
   "metadata": {},
   "outputs": [],
   "source": [
    "from haversine import haversine\n",
    "def derive_features(df):\n",
    "    df = df.copy()\n",
    "    # Pickup-based features\n",
    "    df['pickup_date'] = df['Start_Time'].dt.date\n",
    "    df['pickup_weekday'] = df['Start_Time'].dt.weekday\n",
    "    df['pickup_hour'] = df['Start_Time'].dt.hour\n",
    "    df['pickup_month'] = df['Start_Time'].dt.month\n",
    "    df['pickup_day'] = df['Start_Time'].dt.day\n",
    "    # Brand new features\n",
    "    df['haversine_distance'] = df.apply(lambda x: haversine((x['Start_Latitude'],  x['Start_Longitude']), \n",
    "                                                            (x['End_Latitude'], x['End_Longitude'])), axis=1)\n",
    "    df['pickup_cluster']  = kmeans.predict(df[['Start_Latitude', 'Start_Longitude']])\n",
    "    df['dropoff_cluster'] = kmeans.predict(df[['End_Latitude', 'End_Longitude']])\n",
    "    return df"
   ]
  },
  {
   "cell_type": "code",
   "execution_count": 15,
   "metadata": {},
   "outputs": [],
   "source": [
    "test = derive_features(test)"
   ]
  },
  {
   "cell_type": "code",
   "execution_count": 16,
   "metadata": {},
   "outputs": [
    {
     "data": {
      "text/html": [
       "<div>\n",
       "<style scoped>\n",
       "    .dataframe tbody tr th:only-of-type {\n",
       "        vertical-align: middle;\n",
       "    }\n",
       "\n",
       "    .dataframe tbody tr th {\n",
       "        vertical-align: top;\n",
       "    }\n",
       "\n",
       "    .dataframe thead th {\n",
       "        text-align: right;\n",
       "    }\n",
       "</style>\n",
       "<table border=\"1\" class=\"dataframe\">\n",
       "  <thead>\n",
       "    <tr style=\"text-align: right;\">\n",
       "      <th></th>\n",
       "      <th>ID</th>\n",
       "      <th>Start_Time</th>\n",
       "      <th>Start_Latitude</th>\n",
       "      <th>Start_Longitude</th>\n",
       "      <th>End_Latitude</th>\n",
       "      <th>End_Longitude</th>\n",
       "      <th>pickup_date</th>\n",
       "      <th>pickup_weekday</th>\n",
       "      <th>pickup_hour</th>\n",
       "      <th>pickup_month</th>\n",
       "      <th>pickup_day</th>\n",
       "      <th>haversine_distance</th>\n",
       "      <th>pickup_cluster</th>\n",
       "      <th>dropoff_cluster</th>\n",
       "    </tr>\n",
       "  </thead>\n",
       "  <tbody>\n",
       "    <tr>\n",
       "      <th>0</th>\n",
       "      <td>150220445</td>\n",
       "      <td>2016-07-22 06:32:30</td>\n",
       "      <td>12.845321</td>\n",
       "      <td>77.667030</td>\n",
       "      <td>12.914212</td>\n",
       "      <td>77.624512</td>\n",
       "      <td>2016-07-22</td>\n",
       "      <td>4</td>\n",
       "      <td>6</td>\n",
       "      <td>7</td>\n",
       "      <td>22</td>\n",
       "      <td>8.939923</td>\n",
       "      <td>94</td>\n",
       "      <td>64</td>\n",
       "    </tr>\n",
       "    <tr>\n",
       "      <th>1</th>\n",
       "      <td>150811705</td>\n",
       "      <td>2016-07-31 05:22:33</td>\n",
       "      <td>12.965988</td>\n",
       "      <td>77.535179</td>\n",
       "      <td>12.965984</td>\n",
       "      <td>77.535217</td>\n",
       "      <td>2016-07-31</td>\n",
       "      <td>6</td>\n",
       "      <td>5</td>\n",
       "      <td>7</td>\n",
       "      <td>31</td>\n",
       "      <td>0.004142</td>\n",
       "      <td>68</td>\n",
       "      <td>68</td>\n",
       "    </tr>\n",
       "    <tr>\n",
       "      <th>2</th>\n",
       "      <td>150218073</td>\n",
       "      <td>2016-07-22 05:26:14</td>\n",
       "      <td>12.957028</td>\n",
       "      <td>77.559196</td>\n",
       "      <td>12.926508</td>\n",
       "      <td>77.548103</td>\n",
       "      <td>2016-07-22</td>\n",
       "      <td>4</td>\n",
       "      <td>5</td>\n",
       "      <td>7</td>\n",
       "      <td>22</td>\n",
       "      <td>3.600305</td>\n",
       "      <td>98</td>\n",
       "      <td>90</td>\n",
       "    </tr>\n",
       "    <tr>\n",
       "      <th>3</th>\n",
       "      <td>150218420</td>\n",
       "      <td>2016-07-23 02:41:32</td>\n",
       "      <td>13.020818</td>\n",
       "      <td>77.502739</td>\n",
       "      <td>13.020818</td>\n",
       "      <td>77.502739</td>\n",
       "      <td>2016-07-23</td>\n",
       "      <td>5</td>\n",
       "      <td>2</td>\n",
       "      <td>7</td>\n",
       "      <td>23</td>\n",
       "      <td>0.000000</td>\n",
       "      <td>23</td>\n",
       "      <td>23</td>\n",
       "    </tr>\n",
       "    <tr>\n",
       "      <th>4</th>\n",
       "      <td>150219092</td>\n",
       "      <td>2016-07-22 18:58:04</td>\n",
       "      <td>12.982555</td>\n",
       "      <td>77.603226</td>\n",
       "      <td>12.983919</td>\n",
       "      <td>77.597389</td>\n",
       "      <td>2016-07-22</td>\n",
       "      <td>4</td>\n",
       "      <td>18</td>\n",
       "      <td>7</td>\n",
       "      <td>22</td>\n",
       "      <td>0.650385</td>\n",
       "      <td>29</td>\n",
       "      <td>29</td>\n",
       "    </tr>\n",
       "  </tbody>\n",
       "</table>\n",
       "</div>"
      ],
      "text/plain": [
       "          ID          Start_Time  Start_Latitude  Start_Longitude  \\\n",
       "0  150220445 2016-07-22 06:32:30       12.845321        77.667030   \n",
       "1  150811705 2016-07-31 05:22:33       12.965988        77.535179   \n",
       "2  150218073 2016-07-22 05:26:14       12.957028        77.559196   \n",
       "3  150218420 2016-07-23 02:41:32       13.020818        77.502739   \n",
       "4  150219092 2016-07-22 18:58:04       12.982555        77.603226   \n",
       "\n",
       "   End_Latitude  End_Longitude pickup_date  pickup_weekday  pickup_hour  \\\n",
       "0     12.914212      77.624512  2016-07-22               4            6   \n",
       "1     12.965984      77.535217  2016-07-31               6            5   \n",
       "2     12.926508      77.548103  2016-07-22               4            5   \n",
       "3     13.020818      77.502739  2016-07-23               5            2   \n",
       "4     12.983919      77.597389  2016-07-22               4           18   \n",
       "\n",
       "   pickup_month  pickup_day  haversine_distance  pickup_cluster  \\\n",
       "0             7          22            8.939923              94   \n",
       "1             7          31            0.004142              68   \n",
       "2             7          22            3.600305              98   \n",
       "3             7          23            0.000000              23   \n",
       "4             7          22            0.650385              29   \n",
       "\n",
       "   dropoff_cluster  \n",
       "0               64  \n",
       "1               68  \n",
       "2               90  \n",
       "3               23  \n",
       "4               29  "
      ]
     },
     "execution_count": 16,
     "metadata": {},
     "output_type": "execute_result"
    }
   ],
   "source": [
    "test.head()"
   ]
  },
  {
   "cell_type": "code",
   "execution_count": 17,
   "metadata": {},
   "outputs": [],
   "source": [
    "d = ['ID','Start_Time','pickup_date']"
   ]
  },
  {
   "cell_type": "code",
   "execution_count": 18,
   "metadata": {},
   "outputs": [],
   "source": [
    "test.drop(d,axis=1,inplace=True)"
   ]
  },
  {
   "cell_type": "code",
   "execution_count": 19,
   "metadata": {},
   "outputs": [
    {
     "data": {
      "text/html": [
       "<div>\n",
       "<style scoped>\n",
       "    .dataframe tbody tr th:only-of-type {\n",
       "        vertical-align: middle;\n",
       "    }\n",
       "\n",
       "    .dataframe tbody tr th {\n",
       "        vertical-align: top;\n",
       "    }\n",
       "\n",
       "    .dataframe thead th {\n",
       "        text-align: right;\n",
       "    }\n",
       "</style>\n",
       "<table border=\"1\" class=\"dataframe\">\n",
       "  <thead>\n",
       "    <tr style=\"text-align: right;\">\n",
       "      <th></th>\n",
       "      <th>Start_Latitude</th>\n",
       "      <th>Start_Longitude</th>\n",
       "      <th>End_Latitude</th>\n",
       "      <th>End_Longitude</th>\n",
       "      <th>pickup_weekday</th>\n",
       "      <th>pickup_hour</th>\n",
       "      <th>pickup_month</th>\n",
       "      <th>pickup_day</th>\n",
       "      <th>haversine_distance</th>\n",
       "      <th>pickup_cluster</th>\n",
       "      <th>dropoff_cluster</th>\n",
       "    </tr>\n",
       "  </thead>\n",
       "  <tbody>\n",
       "    <tr>\n",
       "      <th>0</th>\n",
       "      <td>12.845321</td>\n",
       "      <td>77.667030</td>\n",
       "      <td>12.914212</td>\n",
       "      <td>77.624512</td>\n",
       "      <td>4</td>\n",
       "      <td>6</td>\n",
       "      <td>7</td>\n",
       "      <td>22</td>\n",
       "      <td>8.939923</td>\n",
       "      <td>94</td>\n",
       "      <td>64</td>\n",
       "    </tr>\n",
       "    <tr>\n",
       "      <th>1</th>\n",
       "      <td>12.965988</td>\n",
       "      <td>77.535179</td>\n",
       "      <td>12.965984</td>\n",
       "      <td>77.535217</td>\n",
       "      <td>6</td>\n",
       "      <td>5</td>\n",
       "      <td>7</td>\n",
       "      <td>31</td>\n",
       "      <td>0.004142</td>\n",
       "      <td>68</td>\n",
       "      <td>68</td>\n",
       "    </tr>\n",
       "    <tr>\n",
       "      <th>2</th>\n",
       "      <td>12.957028</td>\n",
       "      <td>77.559196</td>\n",
       "      <td>12.926508</td>\n",
       "      <td>77.548103</td>\n",
       "      <td>4</td>\n",
       "      <td>5</td>\n",
       "      <td>7</td>\n",
       "      <td>22</td>\n",
       "      <td>3.600305</td>\n",
       "      <td>98</td>\n",
       "      <td>90</td>\n",
       "    </tr>\n",
       "    <tr>\n",
       "      <th>3</th>\n",
       "      <td>13.020818</td>\n",
       "      <td>77.502739</td>\n",
       "      <td>13.020818</td>\n",
       "      <td>77.502739</td>\n",
       "      <td>5</td>\n",
       "      <td>2</td>\n",
       "      <td>7</td>\n",
       "      <td>23</td>\n",
       "      <td>0.000000</td>\n",
       "      <td>23</td>\n",
       "      <td>23</td>\n",
       "    </tr>\n",
       "    <tr>\n",
       "      <th>4</th>\n",
       "      <td>12.982555</td>\n",
       "      <td>77.603226</td>\n",
       "      <td>12.983919</td>\n",
       "      <td>77.597389</td>\n",
       "      <td>4</td>\n",
       "      <td>18</td>\n",
       "      <td>7</td>\n",
       "      <td>22</td>\n",
       "      <td>0.650385</td>\n",
       "      <td>29</td>\n",
       "      <td>29</td>\n",
       "    </tr>\n",
       "  </tbody>\n",
       "</table>\n",
       "</div>"
      ],
      "text/plain": [
       "   Start_Latitude  Start_Longitude  End_Latitude  End_Longitude  \\\n",
       "0       12.845321        77.667030     12.914212      77.624512   \n",
       "1       12.965988        77.535179     12.965984      77.535217   \n",
       "2       12.957028        77.559196     12.926508      77.548103   \n",
       "3       13.020818        77.502739     13.020818      77.502739   \n",
       "4       12.982555        77.603226     12.983919      77.597389   \n",
       "\n",
       "   pickup_weekday  pickup_hour  pickup_month  pickup_day  haversine_distance  \\\n",
       "0               4            6             7          22            8.939923   \n",
       "1               6            5             7          31            0.004142   \n",
       "2               4            5             7          22            3.600305   \n",
       "3               5            2             7          23            0.000000   \n",
       "4               4           18             7          22            0.650385   \n",
       "\n",
       "   pickup_cluster  dropoff_cluster  \n",
       "0              94               64  \n",
       "1              68               68  \n",
       "2              98               90  \n",
       "3              23               23  \n",
       "4              29               29  "
      ]
     },
     "execution_count": 19,
     "metadata": {},
     "output_type": "execute_result"
    }
   ],
   "source": [
    "test.head()"
   ]
  },
  {
   "cell_type": "code",
   "execution_count": 20,
   "metadata": {},
   "outputs": [],
   "source": [
    "dvalid = xgb.DMatrix(test)"
   ]
  },
  {
   "cell_type": "code",
   "execution_count": 36,
   "metadata": {},
   "outputs": [
    {
     "data": {
      "text/plain": [
       "<xgboost.core.DMatrix at 0x7fa4ba8c15c0>"
      ]
     },
     "execution_count": 36,
     "metadata": {},
     "output_type": "execute_result"
    }
   ],
   "source": [
    "dvalid"
   ]
  },
  {
   "cell_type": "code",
   "execution_count": 21,
   "metadata": {},
   "outputs": [],
   "source": [
    "import pickle"
   ]
  },
  {
   "cell_type": "code",
   "execution_count": 22,
   "metadata": {},
   "outputs": [],
   "source": [
    "loaded_model = pickle.load(open('model1.sav', 'rb'))"
   ]
  },
  {
   "cell_type": "code",
   "execution_count": 23,
   "metadata": {},
   "outputs": [],
   "source": [
    "ytest = loaded_model.predict(dvalid)"
   ]
  },
  {
   "cell_type": "code",
   "execution_count": 24,
   "metadata": {},
   "outputs": [
    {
     "data": {
      "text/plain": [
       "array([7.2956777, 4.180949 , 6.5447106, 5.3106456, 6.5239778, 6.5676756,\n",
       "       7.540527 , 4.9594   , 6.266545 , 6.0242662, 5.166883 , 5.927511 ,\n",
       "       7.317218 , 5.8023777, 6.922781 , 6.779944 , 6.1938305, 6.870197 ,\n",
       "       6.1427717, 6.6797743, 6.866709 , 6.453557 , 5.270932 , 4.7349687,\n",
       "       7.172161 , 5.018754 , 5.3799386, 6.4438524, 7.3774514, 6.9080997,\n",
       "       6.929503 , 5.2644   , 5.65974  , 6.751001 , 7.1693535, 6.3798847,\n",
       "       6.585369 , 6.643067 , 6.7797885, 6.2540584, 5.8983197, 7.341718 ,\n",
       "       6.867265 , 7.080347 , 6.749561 , 6.58357  , 6.3955493, 4.6735215,\n",
       "       7.3865924, 6.6467915, 6.0816474, 7.5973005, 6.110114 , 6.7787704,\n",
       "       7.1631756, 7.2060466, 7.09236  , 6.6619906, 6.597782 , 7.44357  ,\n",
       "       5.479862 , 5.5436635, 6.149863 , 6.4575295, 5.546368 , 5.2374067,\n",
       "       6.741817 , 7.0064754, 7.251569 , 6.5457697, 6.703865 , 4.537017 ,\n",
       "       4.843788 , 6.667633 , 7.417703 , 7.5823364, 7.523161 , 7.449968 ,\n",
       "       4.937013 , 6.2933383, 6.864053 , 6.152752 , 6.850237 , 7.2011642,\n",
       "       6.7352014, 6.058845 , 7.1136737, 7.4361377, 7.376831 , 6.944848 ,\n",
       "       5.695533 , 5.2410603, 5.9609914, 6.807349 , 7.184609 , 6.016803 ,\n",
       "       6.851521 , 5.2787757, 7.1131544, 5.5773277, 6.109714 , 7.441439 ,\n",
       "       6.134064 , 6.069015 , 7.1161213, 7.103901 , 5.959366 , 5.792669 ],\n",
       "      dtype=float32)"
      ]
     },
     "execution_count": 24,
     "metadata": {},
     "output_type": "execute_result"
    }
   ],
   "source": [
    "ytest"
   ]
  },
  {
   "cell_type": "code",
   "execution_count": 25,
   "metadata": {},
   "outputs": [],
   "source": [
    "t2 = np.expm1(ytest)"
   ]
  },
  {
   "cell_type": "code",
   "execution_count": 26,
   "metadata": {},
   "outputs": [],
   "source": [
    "t2 = t2.astype(int)"
   ]
  },
  {
   "cell_type": "code",
   "execution_count": 27,
   "metadata": {},
   "outputs": [
    {
     "data": {
      "text/plain": [
       "array([1472,   64,  694,  201,  680,  710, 1881,  141,  525,  412,  174,\n",
       "        374, 1505,  330, 1014,  879,  488,  962,  464,  795,  958,  633,\n",
       "        193,  112, 1301,  150,  216,  627, 1598,  999, 1020,  192,  286,\n",
       "        853, 1298,  588,  723,  766,  878,  519,  363, 1542,  959, 1187,\n",
       "        852,  722,  598,  106, 1613,  769,  436, 1991,  449,  877, 1290,\n",
       "       1346, 1201,  781,  732, 1707,  238,  254,  467,  636,  255,  187,\n",
       "        846, 1102, 1409,  695,  814,   92,  125,  785, 1664, 1962, 1849,\n",
       "       1718,  138,  539,  956,  469,  943, 1339,  840,  426, 1227, 1695,\n",
       "       1597, 1036,  296,  187,  386,  903, 1317,  409,  944,  195, 1227,\n",
       "        263,  449, 1704,  460,  431, 1230, 1215,  386,  326])"
      ]
     },
     "execution_count": 27,
     "metadata": {},
     "output_type": "execute_result"
    }
   ],
   "source": [
    "t2"
   ]
  },
  {
   "cell_type": "code",
   "execution_count": 71,
   "metadata": {},
   "outputs": [],
   "source": [
    "m = t2/60"
   ]
  },
  {
   "cell_type": "code",
   "execution_count": 51,
   "metadata": {},
   "outputs": [],
   "source": [
    "s = t2%60"
   ]
  },
  {
   "cell_type": "code",
   "execution_count": 72,
   "metadata": {},
   "outputs": [
    {
     "data": {
      "text/plain": [
       "array([ 4,  1,  2,  4,  3, 13, 11,  3,  7,  6,  4,  6,  3,  4,  5,  7,  8,\n",
       "        3,  6,  4,  2,  7,  4,  1,  7,  2,  2,  3,  4,  1,  5,  5,  5, 11,\n",
       "        1,  9,  7, 13,  8,  9,  4,  4,  9,  4,  7,  5,  4,  2,  6,  6,  6,\n",
       "        4,  3,  7,  6,  7,  6,  4,  6,  6,  3,  2,  8, 18,  1,  1,  3,  3,\n",
       "       11,  3,  3,  2,  2,  2, 14,  9, 10,  3,  2,  2, 11,  6,  2, 21,  6,\n",
       "        2,  2,  2,  6, 10,  3,  3,  4,  9,  6,  3,  8,  2,  3,  5,  8,  3,\n",
       "        8,  5,  7,  1,  3,  3])"
      ]
     },
     "execution_count": 72,
     "metadata": {},
     "output_type": "execute_result"
    }
   ],
   "source": [
    "m = m.astype(int)\n",
    "m"
   ]
  },
  {
   "cell_type": "code",
   "execution_count": 55,
   "metadata": {},
   "outputs": [
    {
     "data": {
      "text/plain": [
       "array([32, 52,  4,  1, 27, 33, 34, 36, 14, 26, 45,  5, 12, 35, 57, 37, 59,\n",
       "       41, 10, 35, 50, 17,  6, 52, 15, 37, 50, 42, 29, 47, 33, 36, 41, 39,\n",
       "        7, 59, 25, 46, 14, 57, 43, 41, 39, 17, 17, 12, 16,  4, 14, 58,  6,\n",
       "       30, 28,  5, 14, 15,  0, 16, 54,  0, 24, 28, 52, 12, 58, 36, 40, 52,\n",
       "       55, 48, 47, 28, 24, 59, 14, 49, 35, 29, 35, 50,  0, 21,  8,  1, 35,\n",
       "       14, 56, 48, 39, 16, 55, 53, 47,  9,  9, 23,  0, 58,  6, 47, 39, 10,\n",
       "       20,  1, 10, 24, 47, 51])"
      ]
     },
     "execution_count": 55,
     "metadata": {},
     "output_type": "execute_result"
    }
   ],
   "source": [
    "s"
   ]
  },
  {
   "cell_type": "code",
   "execution_count": 57,
   "metadata": {},
   "outputs": [],
   "source": [
    "h = m/60"
   ]
  },
  {
   "cell_type": "code",
   "execution_count": 60,
   "metadata": {},
   "outputs": [
    {
     "data": {
      "text/plain": [
       "array([0, 0, 0, 0, 0, 0, 0, 0, 0, 0, 0, 0, 0, 0, 0, 0, 0, 0, 0, 0, 0, 0,\n",
       "       0, 0, 0, 0, 0, 0, 0, 0, 0, 0, 0, 0, 0, 0, 0, 0, 0, 0, 0, 0, 0, 0,\n",
       "       0, 0, 0, 0, 0, 0, 0, 0, 0, 0, 0, 0, 0, 0, 0, 0, 0, 0, 0, 0, 0, 0,\n",
       "       0, 0, 0, 0, 0, 0, 0, 0, 0, 0, 0, 0, 0, 0, 0, 0, 0, 0, 0, 0, 0, 0,\n",
       "       0, 0, 0, 0, 0, 0, 0, 0, 0, 0, 0, 0, 0, 0, 0, 0, 0, 0, 0, 0])"
      ]
     },
     "execution_count": 60,
     "metadata": {},
     "output_type": "execute_result"
    }
   ],
   "source": [
    "h = h.astype(int)\n",
    "h"
   ]
  },
  {
   "cell_type": "code",
   "execution_count": 76,
   "metadata": {},
   "outputs": [],
   "source": [
    "v = pd.to_datetime(df1['TimeStamp'])+(pd.to_timedelta(s, unit='s'))\n",
    "v = v+(pd.to_timedelta(m, unit='m'))\n",
    "v = v+(pd.to_timedelta(h, unit='h'))"
   ]
  },
  {
   "cell_type": "code",
   "execution_count": 77,
   "metadata": {},
   "outputs": [
    {
     "data": {
      "text/plain": [
       "0   2016-07-22 06:37:02\n",
       "1   2016-07-31 05:24:25\n",
       "2   2016-07-22 05:28:18\n",
       "3   2016-07-23 02:45:33\n",
       "4   2016-07-22 19:01:31\n",
       "dtype: datetime64[ns]"
      ]
     },
     "execution_count": 77,
     "metadata": {},
     "output_type": "execute_result"
    }
   ],
   "source": [
    "v.head()"
   ]
  },
  {
   "cell_type": "code",
   "execution_count": 75,
   "metadata": {},
   "outputs": [
    {
     "data": {
      "text/plain": [
       "0    2016-07-22 06:32:30\n",
       "1    2016-07-31 05:22:33\n",
       "2    2016-07-22 05:26:14\n",
       "3    2016-07-23 02:41:32\n",
       "4    2016-07-22 18:58:04\n",
       "Name: TimeStamp, dtype: object"
      ]
     },
     "execution_count": 75,
     "metadata": {},
     "output_type": "execute_result"
    }
   ],
   "source": [
    "df1['TimeStamp'].head()"
   ]
  },
  {
   "cell_type": "code",
   "execution_count": 85,
   "metadata": {},
   "outputs": [
    {
     "data": {
      "text/plain": [
       "array([0., 0., 0., 0., 0., 0., 0., 0., 0., 0., 0., 0., 0., 0., 0., 0., 0.,\n",
       "       0., 0., 0., 0., 0., 0., 0., 0., 0., 0., 0., 0., 0., 0., 0., 0., 0.,\n",
       "       0., 0., 0., 0., 0., 0., 0., 0., 0., 0., 0., 0., 0., 0., 0., 0., 0.,\n",
       "       0., 0., 0., 0., 0., 0., 0., 0., 0., 0., 0., 0., 0., 0., 0., 0., 0.,\n",
       "       0., 0., 0., 0., 0., 0., 0., 0., 0., 0., 0., 0., 0., 0., 0., 0., 0.,\n",
       "       0., 0., 0., 0., 0., 0., 0., 0., 0., 0., 0., 0., 0., 0., 0., 0., 0.,\n",
       "       0., 0., 0., 0., 0., 0.])"
      ]
     },
     "execution_count": 85,
     "metadata": {},
     "output_type": "execute_result"
    }
   ],
   "source": [
    "res = np.zeros(108)\n",
    "res"
   ]
  },
  {
   "cell_type": "code",
   "execution_count": 87,
   "metadata": {},
   "outputs": [],
   "source": [
    "for i in range(1,100):\n",
    "    time = pd.Series()\n",
    "    if i == 1:\n",
    "        test = pd.DataFrame()\n",
    "        test['ID'] = df1['Id']\n",
    "        test['Start_Time'] = pd.to_datetime(df1['TimeStamp'])\n",
    "        test['Start_Latitude'] = df['LATITUDE1']\n",
    "        test['Start_Longitude'] = df['LONGITUDE1']\n",
    "        test['End_Latitude'] = df['LATITUDE2']\n",
    "        test['End_Longitude'] = df['LONGITUDE2']\n",
    "        kmeans = kmeanret(test)\n",
    "        test = derive_features(test)\n",
    "        time = test['Start_Time']\n",
    "        d = ['ID','Start_Time','pickup_date']\n",
    "        test.drop(d,axis=1,inplace=True)\n",
    "        dvalid = xgb.DMatrix(test)\n",
    "        ytest = loaded_model.predict(dvalid)\n",
    "        ydur = np.expm1(ytest)\n",
    "        ydur = ydur.astype(int)\n",
    "        s = ydur%60\n",
    "        m = ydur/60\n",
    "        m = m.astype(int)\n",
    "        h = m/60\n",
    "        h = h.astype(int)\n",
    "        res = res + ydur\n",
    "        time = time + (pd.to_timedelta(s, unit='s'))\n",
    "        time = time + (pd.to_timedelta(m, unit='m'))\n",
    "        time = time + (pd.to_timedelta(h, unit='h'))\n",
    "    else:\n",
    "        test = pd.DataFrame()\n",
    "        test['ID'] = df1['Id']\n",
    "        test['Start_Time'] = pd.to_datetime(time)\n",
    "        test['Start_Latitude'] = df['LATITUDE{}'.format(i)]\n",
    "        test['Start_Longitude'] = df['LONGITUDE{}'.format(i)]\n",
    "        test['End_Latitude'] = df['LATITUDE{}'.format(i+1)]\n",
    "        test['End_Longitude'] = df['LONGITUDE{}'.format(i+1)]\n",
    "        kmeans = kmeanret(test)\n",
    "        test = derive_features(test)\n",
    "        time = test['Start_Time']\n",
    "        d = ['ID','Start_Time','pickup_date']\n",
    "        test.drop(d,axis=1,inplace=True)\n",
    "        dvalid = xgb.DMatrix(test)\n",
    "        ytest = loaded_model.predict(dvalid)\n",
    "        ydur = np.expm1(ytest)\n",
    "        ydur = ydur.astype(int)\n",
    "        s = ydur%60\n",
    "        m = ydur/60\n",
    "        m = m.astype(int)\n",
    "        h = m/60\n",
    "        h = h.astype(int)\n",
    "        res = res + ydur\n",
    "        time = time + (pd.to_timedelta(s, unit='s'))\n",
    "        time = time + (pd.to_timedelta(m, unit='m'))\n",
    "        time = time + (pd.to_timedelta(h, unit='h'))"
   ]
  },
  {
   "cell_type": "code",
   "execution_count": 88,
   "metadata": {},
   "outputs": [
    {
     "data": {
      "text/plain": [
       "array([27358., 12250., 33064., 27380., 17883., 49210., 15622., 27186.,\n",
       "       35798., 51478., 25116., 38146., 19946., 30087., 21990., 32216.,\n",
       "       33767., 30341., 16643., 15938., 20260., 29244., 34398., 10781.,\n",
       "       21374., 26757., 16486., 27596., 20589., 33105., 18525., 33576.,\n",
       "       29548., 21810., 24189., 37885., 47169., 29953., 44291., 58911.,\n",
       "       29255., 30083., 48509., 29139., 26120., 22269., 25941., 14966.,\n",
       "       27219., 20365., 14748., 21304., 26839., 19874., 20669., 31903.,\n",
       "       20857., 31399., 27945., 19481., 14850., 19181., 35864., 36012.,\n",
       "       14238., 12837., 21931., 19719., 36259., 30680., 23397., 27104.,\n",
       "       24398., 19453., 37705., 23084., 21808., 19915., 23410., 15444.,\n",
       "       38165., 34154., 26927., 39109., 18221., 15652., 25696., 20286.,\n",
       "       23494., 21170., 41445., 31186., 33664., 18296., 22057., 31091.,\n",
       "       38097., 23390., 21938., 14415., 21417., 19934., 19622., 15053.,\n",
       "       19813., 29348., 31894., 35213.])"
      ]
     },
     "execution_count": 88,
     "metadata": {},
     "output_type": "execute_result"
    }
   ],
   "source": [
    "res"
   ]
  },
  {
   "cell_type": "code",
   "execution_count": 94,
   "metadata": {},
   "outputs": [],
   "source": [
    "res = res.astype(int)"
   ]
  },
  {
   "cell_type": "code",
   "execution_count": 90,
   "metadata": {},
   "outputs": [],
   "source": [
    "sub_df = pd.DataFrame()"
   ]
  },
  {
   "cell_type": "code",
   "execution_count": 92,
   "metadata": {},
   "outputs": [],
   "source": [
    "sam_sub = pd.read_csv('sample_submission.csv')"
   ]
  },
  {
   "cell_type": "code",
   "execution_count": 93,
   "metadata": {},
   "outputs": [
    {
     "data": {
      "text/html": [
       "<div>\n",
       "<style scoped>\n",
       "    .dataframe tbody tr th:only-of-type {\n",
       "        vertical-align: middle;\n",
       "    }\n",
       "\n",
       "    .dataframe tbody tr th {\n",
       "        vertical-align: top;\n",
       "    }\n",
       "\n",
       "    .dataframe thead th {\n",
       "        text-align: right;\n",
       "    }\n",
       "</style>\n",
       "<table border=\"1\" class=\"dataframe\">\n",
       "  <thead>\n",
       "    <tr style=\"text-align: right;\">\n",
       "      <th></th>\n",
       "      <th>Id</th>\n",
       "      <th>Duration</th>\n",
       "    </tr>\n",
       "  </thead>\n",
       "  <tbody>\n",
       "    <tr>\n",
       "      <th>0</th>\n",
       "      <td>150220445</td>\n",
       "      <td>0</td>\n",
       "    </tr>\n",
       "    <tr>\n",
       "      <th>1</th>\n",
       "      <td>150811705</td>\n",
       "      <td>0</td>\n",
       "    </tr>\n",
       "    <tr>\n",
       "      <th>2</th>\n",
       "      <td>150218073</td>\n",
       "      <td>0</td>\n",
       "    </tr>\n",
       "    <tr>\n",
       "      <th>3</th>\n",
       "      <td>150218420</td>\n",
       "      <td>0</td>\n",
       "    </tr>\n",
       "    <tr>\n",
       "      <th>4</th>\n",
       "      <td>150219092</td>\n",
       "      <td>0</td>\n",
       "    </tr>\n",
       "  </tbody>\n",
       "</table>\n",
       "</div>"
      ],
      "text/plain": [
       "          Id  Duration\n",
       "0  150220445         0\n",
       "1  150811705         0\n",
       "2  150218073         0\n",
       "3  150218420         0\n",
       "4  150219092         0"
      ]
     },
     "execution_count": 93,
     "metadata": {},
     "output_type": "execute_result"
    }
   ],
   "source": [
    "sam_sub.head()"
   ]
  },
  {
   "cell_type": "code",
   "execution_count": 97,
   "metadata": {},
   "outputs": [],
   "source": [
    "sub_df['Id'] = df1['Id']\n",
    "sub_df['Duration'] = res"
   ]
  },
  {
   "cell_type": "code",
   "execution_count": 101,
   "metadata": {},
   "outputs": [
    {
     "name": "stdout",
     "output_type": "stream",
     "text": [
      "<class 'pandas.core.frame.DataFrame'>\n",
      "RangeIndex: 108 entries, 0 to 107\n",
      "Data columns (total 2 columns):\n",
      "Id          108 non-null int64\n",
      "Duration    108 non-null int64\n",
      "dtypes: int64(2)\n",
      "memory usage: 1.8 KB\n"
     ]
    }
   ],
   "source": [
    "sub_df.info()"
   ]
  },
  {
   "cell_type": "code",
   "execution_count": 104,
   "metadata": {},
   "outputs": [],
   "source": [
    "sub_df.to_csv('FirstSubmission.csv',index=False)"
   ]
  },
  {
   "cell_type": "code",
   "execution_count": 105,
   "metadata": {},
   "outputs": [],
   "source": [
    "sub_df1 = pd.read_csv('FirstSubmission.csv')"
   ]
  },
  {
   "cell_type": "code",
   "execution_count": 106,
   "metadata": {},
   "outputs": [
    {
     "data": {
      "text/html": [
       "<div>\n",
       "<style scoped>\n",
       "    .dataframe tbody tr th:only-of-type {\n",
       "        vertical-align: middle;\n",
       "    }\n",
       "\n",
       "    .dataframe tbody tr th {\n",
       "        vertical-align: top;\n",
       "    }\n",
       "\n",
       "    .dataframe thead th {\n",
       "        text-align: right;\n",
       "    }\n",
       "</style>\n",
       "<table border=\"1\" class=\"dataframe\">\n",
       "  <thead>\n",
       "    <tr style=\"text-align: right;\">\n",
       "      <th></th>\n",
       "      <th>Id</th>\n",
       "      <th>Duration</th>\n",
       "    </tr>\n",
       "  </thead>\n",
       "  <tbody>\n",
       "    <tr>\n",
       "      <th>0</th>\n",
       "      <td>150220445</td>\n",
       "      <td>27358</td>\n",
       "    </tr>\n",
       "    <tr>\n",
       "      <th>1</th>\n",
       "      <td>150811705</td>\n",
       "      <td>12250</td>\n",
       "    </tr>\n",
       "    <tr>\n",
       "      <th>2</th>\n",
       "      <td>150218073</td>\n",
       "      <td>33064</td>\n",
       "    </tr>\n",
       "    <tr>\n",
       "      <th>3</th>\n",
       "      <td>150218420</td>\n",
       "      <td>27380</td>\n",
       "    </tr>\n",
       "    <tr>\n",
       "      <th>4</th>\n",
       "      <td>150219092</td>\n",
       "      <td>17883</td>\n",
       "    </tr>\n",
       "  </tbody>\n",
       "</table>\n",
       "</div>"
      ],
      "text/plain": [
       "          Id  Duration\n",
       "0  150220445     27358\n",
       "1  150811705     12250\n",
       "2  150218073     33064\n",
       "3  150218420     27380\n",
       "4  150219092     17883"
      ]
     },
     "execution_count": 106,
     "metadata": {},
     "output_type": "execute_result"
    }
   ],
   "source": [
    "sub_df1.head()"
   ]
  },
  {
   "cell_type": "code",
   "execution_count": null,
   "metadata": {},
   "outputs": [],
   "source": []
  }
 ],
 "metadata": {
  "kernelspec": {
   "display_name": "Python 3",
   "language": "python",
   "name": "python3"
  },
  "language_info": {
   "codemirror_mode": {
    "name": "ipython",
    "version": 3
   },
   "file_extension": ".py",
   "mimetype": "text/x-python",
   "name": "python",
   "nbconvert_exporter": "python",
   "pygments_lexer": "ipython3",
   "version": "3.6.7"
  }
 },
 "nbformat": 4,
 "nbformat_minor": 2
}
